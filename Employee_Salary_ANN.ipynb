{
  "nbformat": 4,
  "nbformat_minor": 0,
  "metadata": {
    "colab": {
      "provenance": [],
      "authorship_tag": "ABX9TyN0h9jdXxaoVbyZEqtEjLDz"
    },
    "kernelspec": {
      "name": "python3",
      "display_name": "Python 3"
    },
    "language_info": {
      "name": "python"
    }
  },
  "cells": [
    {
      "cell_type": "markdown",
      "source": [
        "#**Title:** Employee Salary Prediction using ANN"
      ],
      "metadata": {
        "id": "8-Qt__Rh6ReK"
      }
    },
    {
      "cell_type": "markdown",
      "metadata": {
        "id": "5b28771b"
      },
      "source": [
        "#**Problem statement :**\n",
        "Develop a Deep learning model, specifically an Artificial Neural Network (ANN) for Regression, to predict employee salaries based on various attributes such as education level, job title, and years of experience, using the provided synthetic dataset. The goal is to build a model that can accurately estimate salaries by capturing the logical relationships between these features.\n",
        "\n",
        "#**Objective :**\n",
        "The objective of this project is to build and evaluate an Artificial Neural Network model that can accurately predict employee salaries based on the provided dataset. This involves data loading, preprocessing, model building, training, and evaluation to achieve a reliable salary prediction model.\n",
        "\n",
        "\n",
        "#**Data dictionary :**\n",
        "\n",
        "* Employee_ID : Unique identifier for each employee\n",
        "\n",
        "* Name : Full name\n",
        "* Gender :\tMale or Female\n",
        "* Age : Age of the employee (based on education level and job title)\n",
        "* Education_Level\t: High School, Bachelor, Master, PhD\n",
        "* Experience_Years : Number of years of professional experience\n",
        "* Department : Business unit, e.g., HR, Engineering, Marketing, etc.\n",
        "* Job_Title\t: Role of the employee, e.g., Analyst, Engineer, Manager, etc.\n",
        "* Location : Work location (e.g., New York, San Francisco, etc.)\n",
        "* Salary : Annual salary in USD (target for regression)\n",
        "\n",
        "\n",
        "**Dataset link :**\n",
        "https://www.kaggle.com/datasets/gmudit/employer-data"
      ]
    },
    {
      "cell_type": "markdown",
      "source": [
        "#Importing necessary libraries"
      ],
      "metadata": {
        "id": "nIcGAFVN-E9E"
      }
    },
    {
      "cell_type": "code",
      "execution_count": 1,
      "metadata": {
        "id": "ovnyGeh_5_0N"
      },
      "outputs": [],
      "source": [
        "# Importing necessary libraries\n",
        "import numpy as np\n",
        "import pandas as pd\n",
        "import matplotlib.pyplot as plt\n",
        "import seaborn as sns\n",
        "import tensorflow as tf\n",
        "from tensorflow.keras import Sequential\n",
        "from tensorflow.keras.layers import Dense\n",
        "from tensorflow.keras.callbacks import EarlyStopping, ReduceLROnPlateau\n",
        "from sklearn.model_selection import train_test_split\n",
        "from sklearn.preprocessing import StandardScaler, OneHotEncoder\n",
        "from sklearn.compose import ColumnTransformer\n",
        "from sklearn import metrics\n",
        "import warnings\n",
        "warnings.filterwarnings('ignore')"
      ]
    },
    {
      "cell_type": "markdown",
      "source": [
        "#Loading dataset"
      ],
      "metadata": {
        "id": "FV-I6Y9F6P1s"
      }
    },
    {
      "cell_type": "code",
      "source": [
        "df=pd.read_csv('/content/Employers_data.csv')\n",
        "df.head()"
      ],
      "metadata": {
        "colab": {
          "base_uri": "https://localhost:8080/",
          "height": 313
        },
        "id": "swdIh4rK6Qjk",
        "outputId": "1d6d3343-4909-48db-d4a1-722e7b748a18"
      },
      "execution_count": 2,
      "outputs": [
        {
          "output_type": "execute_result",
          "data": {
            "text/plain": [
              "   Employee_ID            Name  Age  Gender   Department  Job_Title  \\\n",
              "0            1    Merle Ingram   24  Female  Engineering   Engineer   \n",
              "1            2      John Mayes   56    Male        Sales  Executive   \n",
              "2            3    Carlos Wille   21    Male  Engineering     Intern   \n",
              "3            4  Michael Bryant   30    Male      Finance    Analyst   \n",
              "4            5   Paula Douglas   25  Female           HR    Analyst   \n",
              "\n",
              "   Experience_Years Education_Level  Location  Salary  \n",
              "0                 1          Master    Austin   90000  \n",
              "1                33          Master   Seattle  195000  \n",
              "2                 1        Bachelor  New York   35000  \n",
              "3                 9        Bachelor  New York   75000  \n",
              "4                 2          Master   Seattle   70000  "
            ],
            "text/html": [
              "\n",
              "  <div id=\"df-3dd97b99-3054-4fc4-937f-b3bed0033e5f\" class=\"colab-df-container\">\n",
              "    <div>\n",
              "<style scoped>\n",
              "    .dataframe tbody tr th:only-of-type {\n",
              "        vertical-align: middle;\n",
              "    }\n",
              "\n",
              "    .dataframe tbody tr th {\n",
              "        vertical-align: top;\n",
              "    }\n",
              "\n",
              "    .dataframe thead th {\n",
              "        text-align: right;\n",
              "    }\n",
              "</style>\n",
              "<table border=\"1\" class=\"dataframe\">\n",
              "  <thead>\n",
              "    <tr style=\"text-align: right;\">\n",
              "      <th></th>\n",
              "      <th>Employee_ID</th>\n",
              "      <th>Name</th>\n",
              "      <th>Age</th>\n",
              "      <th>Gender</th>\n",
              "      <th>Department</th>\n",
              "      <th>Job_Title</th>\n",
              "      <th>Experience_Years</th>\n",
              "      <th>Education_Level</th>\n",
              "      <th>Location</th>\n",
              "      <th>Salary</th>\n",
              "    </tr>\n",
              "  </thead>\n",
              "  <tbody>\n",
              "    <tr>\n",
              "      <th>0</th>\n",
              "      <td>1</td>\n",
              "      <td>Merle Ingram</td>\n",
              "      <td>24</td>\n",
              "      <td>Female</td>\n",
              "      <td>Engineering</td>\n",
              "      <td>Engineer</td>\n",
              "      <td>1</td>\n",
              "      <td>Master</td>\n",
              "      <td>Austin</td>\n",
              "      <td>90000</td>\n",
              "    </tr>\n",
              "    <tr>\n",
              "      <th>1</th>\n",
              "      <td>2</td>\n",
              "      <td>John Mayes</td>\n",
              "      <td>56</td>\n",
              "      <td>Male</td>\n",
              "      <td>Sales</td>\n",
              "      <td>Executive</td>\n",
              "      <td>33</td>\n",
              "      <td>Master</td>\n",
              "      <td>Seattle</td>\n",
              "      <td>195000</td>\n",
              "    </tr>\n",
              "    <tr>\n",
              "      <th>2</th>\n",
              "      <td>3</td>\n",
              "      <td>Carlos Wille</td>\n",
              "      <td>21</td>\n",
              "      <td>Male</td>\n",
              "      <td>Engineering</td>\n",
              "      <td>Intern</td>\n",
              "      <td>1</td>\n",
              "      <td>Bachelor</td>\n",
              "      <td>New York</td>\n",
              "      <td>35000</td>\n",
              "    </tr>\n",
              "    <tr>\n",
              "      <th>3</th>\n",
              "      <td>4</td>\n",
              "      <td>Michael Bryant</td>\n",
              "      <td>30</td>\n",
              "      <td>Male</td>\n",
              "      <td>Finance</td>\n",
              "      <td>Analyst</td>\n",
              "      <td>9</td>\n",
              "      <td>Bachelor</td>\n",
              "      <td>New York</td>\n",
              "      <td>75000</td>\n",
              "    </tr>\n",
              "    <tr>\n",
              "      <th>4</th>\n",
              "      <td>5</td>\n",
              "      <td>Paula Douglas</td>\n",
              "      <td>25</td>\n",
              "      <td>Female</td>\n",
              "      <td>HR</td>\n",
              "      <td>Analyst</td>\n",
              "      <td>2</td>\n",
              "      <td>Master</td>\n",
              "      <td>Seattle</td>\n",
              "      <td>70000</td>\n",
              "    </tr>\n",
              "  </tbody>\n",
              "</table>\n",
              "</div>\n",
              "    <div class=\"colab-df-buttons\">\n",
              "\n",
              "  <div class=\"colab-df-container\">\n",
              "    <button class=\"colab-df-convert\" onclick=\"convertToInteractive('df-3dd97b99-3054-4fc4-937f-b3bed0033e5f')\"\n",
              "            title=\"Convert this dataframe to an interactive table.\"\n",
              "            style=\"display:none;\">\n",
              "\n",
              "  <svg xmlns=\"http://www.w3.org/2000/svg\" height=\"24px\" viewBox=\"0 -960 960 960\">\n",
              "    <path d=\"M120-120v-720h720v720H120Zm60-500h600v-160H180v160Zm220 220h160v-160H400v160Zm0 220h160v-160H400v160ZM180-400h160v-160H180v160Zm440 0h160v-160H620v160ZM180-180h160v-160H180v160Zm440 0h160v-160H620v160Z\"/>\n",
              "  </svg>\n",
              "    </button>\n",
              "\n",
              "  <style>\n",
              "    .colab-df-container {\n",
              "      display:flex;\n",
              "      gap: 12px;\n",
              "    }\n",
              "\n",
              "    .colab-df-convert {\n",
              "      background-color: #E8F0FE;\n",
              "      border: none;\n",
              "      border-radius: 50%;\n",
              "      cursor: pointer;\n",
              "      display: none;\n",
              "      fill: #1967D2;\n",
              "      height: 32px;\n",
              "      padding: 0 0 0 0;\n",
              "      width: 32px;\n",
              "    }\n",
              "\n",
              "    .colab-df-convert:hover {\n",
              "      background-color: #E2EBFA;\n",
              "      box-shadow: 0px 1px 2px rgba(60, 64, 67, 0.3), 0px 1px 3px 1px rgba(60, 64, 67, 0.15);\n",
              "      fill: #174EA6;\n",
              "    }\n",
              "\n",
              "    .colab-df-buttons div {\n",
              "      margin-bottom: 4px;\n",
              "    }\n",
              "\n",
              "    [theme=dark] .colab-df-convert {\n",
              "      background-color: #3B4455;\n",
              "      fill: #D2E3FC;\n",
              "    }\n",
              "\n",
              "    [theme=dark] .colab-df-convert:hover {\n",
              "      background-color: #434B5C;\n",
              "      box-shadow: 0px 1px 3px 1px rgba(0, 0, 0, 0.15);\n",
              "      filter: drop-shadow(0px 1px 2px rgba(0, 0, 0, 0.3));\n",
              "      fill: #FFFFFF;\n",
              "    }\n",
              "  </style>\n",
              "\n",
              "    <script>\n",
              "      const buttonEl =\n",
              "        document.querySelector('#df-3dd97b99-3054-4fc4-937f-b3bed0033e5f button.colab-df-convert');\n",
              "      buttonEl.style.display =\n",
              "        google.colab.kernel.accessAllowed ? 'block' : 'none';\n",
              "\n",
              "      async function convertToInteractive(key) {\n",
              "        const element = document.querySelector('#df-3dd97b99-3054-4fc4-937f-b3bed0033e5f');\n",
              "        const dataTable =\n",
              "          await google.colab.kernel.invokeFunction('convertToInteractive',\n",
              "                                                    [key], {});\n",
              "        if (!dataTable) return;\n",
              "\n",
              "        const docLinkHtml = 'Like what you see? Visit the ' +\n",
              "          '<a target=\"_blank\" href=https://colab.research.google.com/notebooks/data_table.ipynb>data table notebook</a>'\n",
              "          + ' to learn more about interactive tables.';\n",
              "        element.innerHTML = '';\n",
              "        dataTable['output_type'] = 'display_data';\n",
              "        await google.colab.output.renderOutput(dataTable, element);\n",
              "        const docLink = document.createElement('div');\n",
              "        docLink.innerHTML = docLinkHtml;\n",
              "        element.appendChild(docLink);\n",
              "      }\n",
              "    </script>\n",
              "  </div>\n",
              "\n",
              "\n",
              "    <div id=\"df-91c0d7bf-0063-4698-8ede-3c89b5cc4075\">\n",
              "      <button class=\"colab-df-quickchart\" onclick=\"quickchart('df-91c0d7bf-0063-4698-8ede-3c89b5cc4075')\"\n",
              "                title=\"Suggest charts\"\n",
              "                style=\"display:none;\">\n",
              "\n",
              "<svg xmlns=\"http://www.w3.org/2000/svg\" height=\"24px\"viewBox=\"0 0 24 24\"\n",
              "     width=\"24px\">\n",
              "    <g>\n",
              "        <path d=\"M19 3H5c-1.1 0-2 .9-2 2v14c0 1.1.9 2 2 2h14c1.1 0 2-.9 2-2V5c0-1.1-.9-2-2-2zM9 17H7v-7h2v7zm4 0h-2V7h2v10zm4 0h-2v-4h2v4z\"/>\n",
              "    </g>\n",
              "</svg>\n",
              "      </button>\n",
              "\n",
              "<style>\n",
              "  .colab-df-quickchart {\n",
              "      --bg-color: #E8F0FE;\n",
              "      --fill-color: #1967D2;\n",
              "      --hover-bg-color: #E2EBFA;\n",
              "      --hover-fill-color: #174EA6;\n",
              "      --disabled-fill-color: #AAA;\n",
              "      --disabled-bg-color: #DDD;\n",
              "  }\n",
              "\n",
              "  [theme=dark] .colab-df-quickchart {\n",
              "      --bg-color: #3B4455;\n",
              "      --fill-color: #D2E3FC;\n",
              "      --hover-bg-color: #434B5C;\n",
              "      --hover-fill-color: #FFFFFF;\n",
              "      --disabled-bg-color: #3B4455;\n",
              "      --disabled-fill-color: #666;\n",
              "  }\n",
              "\n",
              "  .colab-df-quickchart {\n",
              "    background-color: var(--bg-color);\n",
              "    border: none;\n",
              "    border-radius: 50%;\n",
              "    cursor: pointer;\n",
              "    display: none;\n",
              "    fill: var(--fill-color);\n",
              "    height: 32px;\n",
              "    padding: 0;\n",
              "    width: 32px;\n",
              "  }\n",
              "\n",
              "  .colab-df-quickchart:hover {\n",
              "    background-color: var(--hover-bg-color);\n",
              "    box-shadow: 0 1px 2px rgba(60, 64, 67, 0.3), 0 1px 3px 1px rgba(60, 64, 67, 0.15);\n",
              "    fill: var(--button-hover-fill-color);\n",
              "  }\n",
              "\n",
              "  .colab-df-quickchart-complete:disabled,\n",
              "  .colab-df-quickchart-complete:disabled:hover {\n",
              "    background-color: var(--disabled-bg-color);\n",
              "    fill: var(--disabled-fill-color);\n",
              "    box-shadow: none;\n",
              "  }\n",
              "\n",
              "  .colab-df-spinner {\n",
              "    border: 2px solid var(--fill-color);\n",
              "    border-color: transparent;\n",
              "    border-bottom-color: var(--fill-color);\n",
              "    animation:\n",
              "      spin 1s steps(1) infinite;\n",
              "  }\n",
              "\n",
              "  @keyframes spin {\n",
              "    0% {\n",
              "      border-color: transparent;\n",
              "      border-bottom-color: var(--fill-color);\n",
              "      border-left-color: var(--fill-color);\n",
              "    }\n",
              "    20% {\n",
              "      border-color: transparent;\n",
              "      border-left-color: var(--fill-color);\n",
              "      border-top-color: var(--fill-color);\n",
              "    }\n",
              "    30% {\n",
              "      border-color: transparent;\n",
              "      border-left-color: var(--fill-color);\n",
              "      border-top-color: var(--fill-color);\n",
              "      border-right-color: var(--fill-color);\n",
              "    }\n",
              "    40% {\n",
              "      border-color: transparent;\n",
              "      border-right-color: var(--fill-color);\n",
              "      border-top-color: var(--fill-color);\n",
              "    }\n",
              "    60% {\n",
              "      border-color: transparent;\n",
              "      border-right-color: var(--fill-color);\n",
              "    }\n",
              "    80% {\n",
              "      border-color: transparent;\n",
              "      border-right-color: var(--fill-color);\n",
              "      border-bottom-color: var(--fill-color);\n",
              "    }\n",
              "    90% {\n",
              "      border-color: transparent;\n",
              "      border-bottom-color: var(--fill-color);\n",
              "    }\n",
              "  }\n",
              "</style>\n",
              "\n",
              "      <script>\n",
              "        async function quickchart(key) {\n",
              "          const quickchartButtonEl =\n",
              "            document.querySelector('#' + key + ' button');\n",
              "          quickchartButtonEl.disabled = true;  // To prevent multiple clicks.\n",
              "          quickchartButtonEl.classList.add('colab-df-spinner');\n",
              "          try {\n",
              "            const charts = await google.colab.kernel.invokeFunction(\n",
              "                'suggestCharts', [key], {});\n",
              "          } catch (error) {\n",
              "            console.error('Error during call to suggestCharts:', error);\n",
              "          }\n",
              "          quickchartButtonEl.classList.remove('colab-df-spinner');\n",
              "          quickchartButtonEl.classList.add('colab-df-quickchart-complete');\n",
              "        }\n",
              "        (() => {\n",
              "          let quickchartButtonEl =\n",
              "            document.querySelector('#df-91c0d7bf-0063-4698-8ede-3c89b5cc4075 button');\n",
              "          quickchartButtonEl.style.display =\n",
              "            google.colab.kernel.accessAllowed ? 'block' : 'none';\n",
              "        })();\n",
              "      </script>\n",
              "    </div>\n",
              "\n",
              "    </div>\n",
              "  </div>\n"
            ],
            "application/vnd.google.colaboratory.intrinsic+json": {
              "type": "dataframe",
              "variable_name": "df",
              "summary": "{\n  \"name\": \"df\",\n  \"rows\": 10000,\n  \"fields\": [\n    {\n      \"column\": \"Employee_ID\",\n      \"properties\": {\n        \"dtype\": \"number\",\n        \"std\": 2886,\n        \"min\": 1,\n        \"max\": 10000,\n        \"num_unique_values\": 10000,\n        \"samples\": [\n          6253,\n          4685,\n          1732\n        ],\n        \"semantic_type\": \"\",\n        \"description\": \"\"\n      }\n    },\n    {\n      \"column\": \"Name\",\n      \"properties\": {\n        \"dtype\": \"string\",\n        \"num_unique_values\": 9868,\n        \"samples\": [\n          \"Cristal Rodriguez\",\n          \"Stephanie Ellis\",\n          \"Sean Green\"\n        ],\n        \"semantic_type\": \"\",\n        \"description\": \"\"\n      }\n    },\n    {\n      \"column\": \"Age\",\n      \"properties\": {\n        \"dtype\": \"number\",\n        \"std\": 10,\n        \"min\": 21,\n        \"max\": 60,\n        \"num_unique_values\": 40,\n        \"samples\": [\n          22,\n          28,\n          31\n        ],\n        \"semantic_type\": \"\",\n        \"description\": \"\"\n      }\n    },\n    {\n      \"column\": \"Gender\",\n      \"properties\": {\n        \"dtype\": \"category\",\n        \"num_unique_values\": 2,\n        \"samples\": [\n          \"Male\",\n          \"Female\"\n        ],\n        \"semantic_type\": \"\",\n        \"description\": \"\"\n      }\n    },\n    {\n      \"column\": \"Department\",\n      \"properties\": {\n        \"dtype\": \"category\",\n        \"num_unique_values\": 6,\n        \"samples\": [\n          \"Engineering\",\n          \"Sales\"\n        ],\n        \"semantic_type\": \"\",\n        \"description\": \"\"\n      }\n    },\n    {\n      \"column\": \"Job_Title\",\n      \"properties\": {\n        \"dtype\": \"category\",\n        \"num_unique_values\": 5,\n        \"samples\": [\n          \"Executive\",\n          \"Manager\"\n        ],\n        \"semantic_type\": \"\",\n        \"description\": \"\"\n      }\n    },\n    {\n      \"column\": \"Experience_Years\",\n      \"properties\": {\n        \"dtype\": \"number\",\n        \"std\": 9,\n        \"min\": 0,\n        \"max\": 37,\n        \"num_unique_values\": 38,\n        \"samples\": [\n          27,\n          34\n        ],\n        \"semantic_type\": \"\",\n        \"description\": \"\"\n      }\n    },\n    {\n      \"column\": \"Education_Level\",\n      \"properties\": {\n        \"dtype\": \"category\",\n        \"num_unique_values\": 3,\n        \"samples\": [\n          \"Master\",\n          \"Bachelor\"\n        ],\n        \"semantic_type\": \"\",\n        \"description\": \"\"\n      }\n    },\n    {\n      \"column\": \"Location\",\n      \"properties\": {\n        \"dtype\": \"category\",\n        \"num_unique_values\": 5,\n        \"samples\": [\n          \"Seattle\",\n          \"Chicago\"\n        ],\n        \"semantic_type\": \"\",\n        \"description\": \"\"\n      }\n    },\n    {\n      \"column\": \"Salary\",\n      \"properties\": {\n        \"dtype\": \"number\",\n        \"std\": 46066,\n        \"min\": 25000,\n        \"max\": 215000,\n        \"num_unique_values\": 39,\n        \"samples\": [\n          100000,\n          50000\n        ],\n        \"semantic_type\": \"\",\n        \"description\": \"\"\n      }\n    }\n  ]\n}"
            }
          },
          "metadata": {},
          "execution_count": 2
        }
      ]
    },
    {
      "cell_type": "code",
      "source": [
        "#Checking the shape of the data\n",
        "df.shape"
      ],
      "metadata": {
        "colab": {
          "base_uri": "https://localhost:8080/"
        },
        "id": "F6SGpo0uPTac",
        "outputId": "0ca53bab-3bb4-4b8a-fd69-54cf3685928e"
      },
      "execution_count": 3,
      "outputs": [
        {
          "output_type": "execute_result",
          "data": {
            "text/plain": [
              "(10000, 10)"
            ]
          },
          "metadata": {},
          "execution_count": 3
        }
      ]
    },
    {
      "cell_type": "markdown",
      "source": [
        "**observations:**\n",
        "*There are 10000 rows and 10 columns in the dataset."
      ],
      "metadata": {
        "id": "R2LHF1c2PfJs"
      }
    },
    {
      "cell_type": "code",
      "source": [
        "#Checking the data types\n",
        "df.info()"
      ],
      "metadata": {
        "colab": {
          "base_uri": "https://localhost:8080/"
        },
        "id": "XABEL_3_PTXD",
        "outputId": "34f1db6f-cd9b-49b9-f38f-5c9c7b4daa31"
      },
      "execution_count": 4,
      "outputs": [
        {
          "output_type": "stream",
          "name": "stdout",
          "text": [
            "<class 'pandas.core.frame.DataFrame'>\n",
            "RangeIndex: 10000 entries, 0 to 9999\n",
            "Data columns (total 10 columns):\n",
            " #   Column            Non-Null Count  Dtype \n",
            "---  ------            --------------  ----- \n",
            " 0   Employee_ID       10000 non-null  int64 \n",
            " 1   Name              10000 non-null  object\n",
            " 2   Age               10000 non-null  int64 \n",
            " 3   Gender            10000 non-null  object\n",
            " 4   Department        10000 non-null  object\n",
            " 5   Job_Title         10000 non-null  object\n",
            " 6   Experience_Years  10000 non-null  int64 \n",
            " 7   Education_Level   10000 non-null  object\n",
            " 8   Location          10000 non-null  object\n",
            " 9   Salary            10000 non-null  int64 \n",
            "dtypes: int64(4), object(6)\n",
            "memory usage: 781.4+ KB\n"
          ]
        }
      ]
    },
    {
      "cell_type": "markdown",
      "source": [
        "**Observations:**\n",
        "* All the columns has correct data type."
      ],
      "metadata": {
        "id": "xOc7NyykPr8C"
      }
    },
    {
      "cell_type": "markdown",
      "source": [
        "#Data Cleaniing"
      ],
      "metadata": {
        "id": "EZCNdisBP7et"
      }
    },
    {
      "cell_type": "code",
      "source": [
        "#Checking for NULL values\n",
        "df.isnull().sum().any()"
      ],
      "metadata": {
        "colab": {
          "base_uri": "https://localhost:8080/"
        },
        "id": "LBWEzDRBPTUZ",
        "outputId": "8efd5829-f0d8-4261-fe77-fcce0619301e"
      },
      "execution_count": 5,
      "outputs": [
        {
          "output_type": "execute_result",
          "data": {
            "text/plain": [
              "np.False_"
            ]
          },
          "metadata": {},
          "execution_count": 5
        }
      ]
    },
    {
      "cell_type": "markdown",
      "source": [
        "* There are no Null values."
      ],
      "metadata": {
        "id": "C1LhOpjQQEGF"
      }
    },
    {
      "cell_type": "code",
      "source": [
        "#Checking for duplicate values\n",
        "df.duplicated().sum().any()"
      ],
      "metadata": {
        "colab": {
          "base_uri": "https://localhost:8080/"
        },
        "id": "1pg7kUoVP-Vl",
        "outputId": "6a7d0a98-cc1e-4ded-aa97-58ba9766af37"
      },
      "execution_count": 6,
      "outputs": [
        {
          "output_type": "execute_result",
          "data": {
            "text/plain": [
              "np.False_"
            ]
          },
          "metadata": {},
          "execution_count": 6
        }
      ]
    },
    {
      "cell_type": "markdown",
      "source": [
        "* There are no duplicate values."
      ],
      "metadata": {
        "id": "-jWUppHnQPNX"
      }
    },
    {
      "cell_type": "markdown",
      "source": [
        "#Summary statistics"
      ],
      "metadata": {
        "id": "YliFC_2cQYD9"
      }
    },
    {
      "cell_type": "code",
      "source": [
        "df.describe()"
      ],
      "metadata": {
        "colab": {
          "base_uri": "https://localhost:8080/",
          "height": 300
        },
        "id": "yUF5z9FGPTRC",
        "outputId": "0870c243-8aaf-420f-fd8f-f4e1ff931b55"
      },
      "execution_count": 7,
      "outputs": [
        {
          "output_type": "execute_result",
          "data": {
            "text/plain": [
              "       Employee_ID           Age  Experience_Years         Salary\n",
              "count  10000.00000  10000.000000      10000.000000   10000.000000\n",
              "mean    5000.50000     35.455900         12.370900  115381.500000\n",
              "std     2886.89568     10.000213          9.148951   46066.139047\n",
              "min        1.00000     21.000000          0.000000   25000.000000\n",
              "25%     2500.75000     27.000000          5.000000   70000.000000\n",
              "50%     5000.50000     34.000000         10.000000  120000.000000\n",
              "75%     7500.25000     43.000000         19.000000  150000.000000\n",
              "max    10000.00000     60.000000         37.000000  215000.000000"
            ],
            "text/html": [
              "\n",
              "  <div id=\"df-f9e26e54-8f9c-4b99-bbf3-25ea9d7f67c6\" class=\"colab-df-container\">\n",
              "    <div>\n",
              "<style scoped>\n",
              "    .dataframe tbody tr th:only-of-type {\n",
              "        vertical-align: middle;\n",
              "    }\n",
              "\n",
              "    .dataframe tbody tr th {\n",
              "        vertical-align: top;\n",
              "    }\n",
              "\n",
              "    .dataframe thead th {\n",
              "        text-align: right;\n",
              "    }\n",
              "</style>\n",
              "<table border=\"1\" class=\"dataframe\">\n",
              "  <thead>\n",
              "    <tr style=\"text-align: right;\">\n",
              "      <th></th>\n",
              "      <th>Employee_ID</th>\n",
              "      <th>Age</th>\n",
              "      <th>Experience_Years</th>\n",
              "      <th>Salary</th>\n",
              "    </tr>\n",
              "  </thead>\n",
              "  <tbody>\n",
              "    <tr>\n",
              "      <th>count</th>\n",
              "      <td>10000.00000</td>\n",
              "      <td>10000.000000</td>\n",
              "      <td>10000.000000</td>\n",
              "      <td>10000.000000</td>\n",
              "    </tr>\n",
              "    <tr>\n",
              "      <th>mean</th>\n",
              "      <td>5000.50000</td>\n",
              "      <td>35.455900</td>\n",
              "      <td>12.370900</td>\n",
              "      <td>115381.500000</td>\n",
              "    </tr>\n",
              "    <tr>\n",
              "      <th>std</th>\n",
              "      <td>2886.89568</td>\n",
              "      <td>10.000213</td>\n",
              "      <td>9.148951</td>\n",
              "      <td>46066.139047</td>\n",
              "    </tr>\n",
              "    <tr>\n",
              "      <th>min</th>\n",
              "      <td>1.00000</td>\n",
              "      <td>21.000000</td>\n",
              "      <td>0.000000</td>\n",
              "      <td>25000.000000</td>\n",
              "    </tr>\n",
              "    <tr>\n",
              "      <th>25%</th>\n",
              "      <td>2500.75000</td>\n",
              "      <td>27.000000</td>\n",
              "      <td>5.000000</td>\n",
              "      <td>70000.000000</td>\n",
              "    </tr>\n",
              "    <tr>\n",
              "      <th>50%</th>\n",
              "      <td>5000.50000</td>\n",
              "      <td>34.000000</td>\n",
              "      <td>10.000000</td>\n",
              "      <td>120000.000000</td>\n",
              "    </tr>\n",
              "    <tr>\n",
              "      <th>75%</th>\n",
              "      <td>7500.25000</td>\n",
              "      <td>43.000000</td>\n",
              "      <td>19.000000</td>\n",
              "      <td>150000.000000</td>\n",
              "    </tr>\n",
              "    <tr>\n",
              "      <th>max</th>\n",
              "      <td>10000.00000</td>\n",
              "      <td>60.000000</td>\n",
              "      <td>37.000000</td>\n",
              "      <td>215000.000000</td>\n",
              "    </tr>\n",
              "  </tbody>\n",
              "</table>\n",
              "</div>\n",
              "    <div class=\"colab-df-buttons\">\n",
              "\n",
              "  <div class=\"colab-df-container\">\n",
              "    <button class=\"colab-df-convert\" onclick=\"convertToInteractive('df-f9e26e54-8f9c-4b99-bbf3-25ea9d7f67c6')\"\n",
              "            title=\"Convert this dataframe to an interactive table.\"\n",
              "            style=\"display:none;\">\n",
              "\n",
              "  <svg xmlns=\"http://www.w3.org/2000/svg\" height=\"24px\" viewBox=\"0 -960 960 960\">\n",
              "    <path d=\"M120-120v-720h720v720H120Zm60-500h600v-160H180v160Zm220 220h160v-160H400v160Zm0 220h160v-160H400v160ZM180-400h160v-160H180v160Zm440 0h160v-160H620v160ZM180-180h160v-160H180v160Zm440 0h160v-160H620v160Z\"/>\n",
              "  </svg>\n",
              "    </button>\n",
              "\n",
              "  <style>\n",
              "    .colab-df-container {\n",
              "      display:flex;\n",
              "      gap: 12px;\n",
              "    }\n",
              "\n",
              "    .colab-df-convert {\n",
              "      background-color: #E8F0FE;\n",
              "      border: none;\n",
              "      border-radius: 50%;\n",
              "      cursor: pointer;\n",
              "      display: none;\n",
              "      fill: #1967D2;\n",
              "      height: 32px;\n",
              "      padding: 0 0 0 0;\n",
              "      width: 32px;\n",
              "    }\n",
              "\n",
              "    .colab-df-convert:hover {\n",
              "      background-color: #E2EBFA;\n",
              "      box-shadow: 0px 1px 2px rgba(60, 64, 67, 0.3), 0px 1px 3px 1px rgba(60, 64, 67, 0.15);\n",
              "      fill: #174EA6;\n",
              "    }\n",
              "\n",
              "    .colab-df-buttons div {\n",
              "      margin-bottom: 4px;\n",
              "    }\n",
              "\n",
              "    [theme=dark] .colab-df-convert {\n",
              "      background-color: #3B4455;\n",
              "      fill: #D2E3FC;\n",
              "    }\n",
              "\n",
              "    [theme=dark] .colab-df-convert:hover {\n",
              "      background-color: #434B5C;\n",
              "      box-shadow: 0px 1px 3px 1px rgba(0, 0, 0, 0.15);\n",
              "      filter: drop-shadow(0px 1px 2px rgba(0, 0, 0, 0.3));\n",
              "      fill: #FFFFFF;\n",
              "    }\n",
              "  </style>\n",
              "\n",
              "    <script>\n",
              "      const buttonEl =\n",
              "        document.querySelector('#df-f9e26e54-8f9c-4b99-bbf3-25ea9d7f67c6 button.colab-df-convert');\n",
              "      buttonEl.style.display =\n",
              "        google.colab.kernel.accessAllowed ? 'block' : 'none';\n",
              "\n",
              "      async function convertToInteractive(key) {\n",
              "        const element = document.querySelector('#df-f9e26e54-8f9c-4b99-bbf3-25ea9d7f67c6');\n",
              "        const dataTable =\n",
              "          await google.colab.kernel.invokeFunction('convertToInteractive',\n",
              "                                                    [key], {});\n",
              "        if (!dataTable) return;\n",
              "\n",
              "        const docLinkHtml = 'Like what you see? Visit the ' +\n",
              "          '<a target=\"_blank\" href=https://colab.research.google.com/notebooks/data_table.ipynb>data table notebook</a>'\n",
              "          + ' to learn more about interactive tables.';\n",
              "        element.innerHTML = '';\n",
              "        dataTable['output_type'] = 'display_data';\n",
              "        await google.colab.output.renderOutput(dataTable, element);\n",
              "        const docLink = document.createElement('div');\n",
              "        docLink.innerHTML = docLinkHtml;\n",
              "        element.appendChild(docLink);\n",
              "      }\n",
              "    </script>\n",
              "  </div>\n",
              "\n",
              "\n",
              "    <div id=\"df-65e371fa-fe3e-4cce-9cb2-7d5cfadc0650\">\n",
              "      <button class=\"colab-df-quickchart\" onclick=\"quickchart('df-65e371fa-fe3e-4cce-9cb2-7d5cfadc0650')\"\n",
              "                title=\"Suggest charts\"\n",
              "                style=\"display:none;\">\n",
              "\n",
              "<svg xmlns=\"http://www.w3.org/2000/svg\" height=\"24px\"viewBox=\"0 0 24 24\"\n",
              "     width=\"24px\">\n",
              "    <g>\n",
              "        <path d=\"M19 3H5c-1.1 0-2 .9-2 2v14c0 1.1.9 2 2 2h14c1.1 0 2-.9 2-2V5c0-1.1-.9-2-2-2zM9 17H7v-7h2v7zm4 0h-2V7h2v10zm4 0h-2v-4h2v4z\"/>\n",
              "    </g>\n",
              "</svg>\n",
              "      </button>\n",
              "\n",
              "<style>\n",
              "  .colab-df-quickchart {\n",
              "      --bg-color: #E8F0FE;\n",
              "      --fill-color: #1967D2;\n",
              "      --hover-bg-color: #E2EBFA;\n",
              "      --hover-fill-color: #174EA6;\n",
              "      --disabled-fill-color: #AAA;\n",
              "      --disabled-bg-color: #DDD;\n",
              "  }\n",
              "\n",
              "  [theme=dark] .colab-df-quickchart {\n",
              "      --bg-color: #3B4455;\n",
              "      --fill-color: #D2E3FC;\n",
              "      --hover-bg-color: #434B5C;\n",
              "      --hover-fill-color: #FFFFFF;\n",
              "      --disabled-bg-color: #3B4455;\n",
              "      --disabled-fill-color: #666;\n",
              "  }\n",
              "\n",
              "  .colab-df-quickchart {\n",
              "    background-color: var(--bg-color);\n",
              "    border: none;\n",
              "    border-radius: 50%;\n",
              "    cursor: pointer;\n",
              "    display: none;\n",
              "    fill: var(--fill-color);\n",
              "    height: 32px;\n",
              "    padding: 0;\n",
              "    width: 32px;\n",
              "  }\n",
              "\n",
              "  .colab-df-quickchart:hover {\n",
              "    background-color: var(--hover-bg-color);\n",
              "    box-shadow: 0 1px 2px rgba(60, 64, 67, 0.3), 0 1px 3px 1px rgba(60, 64, 67, 0.15);\n",
              "    fill: var(--button-hover-fill-color);\n",
              "  }\n",
              "\n",
              "  .colab-df-quickchart-complete:disabled,\n",
              "  .colab-df-quickchart-complete:disabled:hover {\n",
              "    background-color: var(--disabled-bg-color);\n",
              "    fill: var(--disabled-fill-color);\n",
              "    box-shadow: none;\n",
              "  }\n",
              "\n",
              "  .colab-df-spinner {\n",
              "    border: 2px solid var(--fill-color);\n",
              "    border-color: transparent;\n",
              "    border-bottom-color: var(--fill-color);\n",
              "    animation:\n",
              "      spin 1s steps(1) infinite;\n",
              "  }\n",
              "\n",
              "  @keyframes spin {\n",
              "    0% {\n",
              "      border-color: transparent;\n",
              "      border-bottom-color: var(--fill-color);\n",
              "      border-left-color: var(--fill-color);\n",
              "    }\n",
              "    20% {\n",
              "      border-color: transparent;\n",
              "      border-left-color: var(--fill-color);\n",
              "      border-top-color: var(--fill-color);\n",
              "    }\n",
              "    30% {\n",
              "      border-color: transparent;\n",
              "      border-left-color: var(--fill-color);\n",
              "      border-top-color: var(--fill-color);\n",
              "      border-right-color: var(--fill-color);\n",
              "    }\n",
              "    40% {\n",
              "      border-color: transparent;\n",
              "      border-right-color: var(--fill-color);\n",
              "      border-top-color: var(--fill-color);\n",
              "    }\n",
              "    60% {\n",
              "      border-color: transparent;\n",
              "      border-right-color: var(--fill-color);\n",
              "    }\n",
              "    80% {\n",
              "      border-color: transparent;\n",
              "      border-right-color: var(--fill-color);\n",
              "      border-bottom-color: var(--fill-color);\n",
              "    }\n",
              "    90% {\n",
              "      border-color: transparent;\n",
              "      border-bottom-color: var(--fill-color);\n",
              "    }\n",
              "  }\n",
              "</style>\n",
              "\n",
              "      <script>\n",
              "        async function quickchart(key) {\n",
              "          const quickchartButtonEl =\n",
              "            document.querySelector('#' + key + ' button');\n",
              "          quickchartButtonEl.disabled = true;  // To prevent multiple clicks.\n",
              "          quickchartButtonEl.classList.add('colab-df-spinner');\n",
              "          try {\n",
              "            const charts = await google.colab.kernel.invokeFunction(\n",
              "                'suggestCharts', [key], {});\n",
              "          } catch (error) {\n",
              "            console.error('Error during call to suggestCharts:', error);\n",
              "          }\n",
              "          quickchartButtonEl.classList.remove('colab-df-spinner');\n",
              "          quickchartButtonEl.classList.add('colab-df-quickchart-complete');\n",
              "        }\n",
              "        (() => {\n",
              "          let quickchartButtonEl =\n",
              "            document.querySelector('#df-65e371fa-fe3e-4cce-9cb2-7d5cfadc0650 button');\n",
              "          quickchartButtonEl.style.display =\n",
              "            google.colab.kernel.accessAllowed ? 'block' : 'none';\n",
              "        })();\n",
              "      </script>\n",
              "    </div>\n",
              "\n",
              "    </div>\n",
              "  </div>\n"
            ],
            "application/vnd.google.colaboratory.intrinsic+json": {
              "type": "dataframe",
              "summary": "{\n  \"name\": \"df\",\n  \"rows\": 8,\n  \"fields\": [\n    {\n      \"column\": \"Employee_ID\",\n      \"properties\": {\n        \"dtype\": \"number\",\n        \"std\": 3603.743586536124,\n        \"min\": 1.0,\n        \"max\": 10000.0,\n        \"num_unique_values\": 6,\n        \"samples\": [\n          10000.0,\n          5000.5,\n          7500.25\n        ],\n        \"semantic_type\": \"\",\n        \"description\": \"\"\n      }\n    },\n    {\n      \"column\": \"Age\",\n      \"properties\": {\n        \"dtype\": \"number\",\n        \"std\": 3523.92543075524,\n        \"min\": 10.00021277851384,\n        \"max\": 10000.0,\n        \"num_unique_values\": 8,\n        \"samples\": [\n          35.4559,\n          34.0,\n          10000.0\n        ],\n        \"semantic_type\": \"\",\n        \"description\": \"\"\n      }\n    },\n    {\n      \"column\": \"Experience_Years\",\n      \"properties\": {\n        \"dtype\": \"number\",\n        \"std\": 3530.878525335708,\n        \"min\": 0.0,\n        \"max\": 10000.0,\n        \"num_unique_values\": 8,\n        \"samples\": [\n          12.3709,\n          10.0,\n          10000.0\n        ],\n        \"semantic_type\": \"\",\n        \"description\": \"\"\n      }\n    },\n    {\n      \"column\": \"Salary\",\n      \"properties\": {\n        \"dtype\": \"number\",\n        \"std\": 69282.84206303052,\n        \"min\": 10000.0,\n        \"max\": 215000.0,\n        \"num_unique_values\": 8,\n        \"samples\": [\n          115381.5,\n          120000.0,\n          10000.0\n        ],\n        \"semantic_type\": \"\",\n        \"description\": \"\"\n      }\n    }\n  ]\n}"
            }
          },
          "metadata": {},
          "execution_count": 7
        }
      ]
    },
    {
      "cell_type": "markdown",
      "source": [
        "**Observations:**\n",
        "\n",
        "\n",
        "*   **Age:** Mean (35.5) and median (34) are close, suggesting a relatively symmetrical distribution. The standard deviation (10) indicates a moderate spread.\n",
        "*   **Experience Years:** Mean (12.4) is higher than the median (10), indicating a positive skew (more employees with less experience). The standard deviation (9.15) shows a significant spread.\n",
        "*   **Salary:** Mean (115.4k) is slightly lower than the median (120k), suggesting a slight negative skew. The high standard deviation (46.1k) highlights a large spread in salaries."
      ],
      "metadata": {
        "id": "IrwD4MHbQiQM"
      }
    },
    {
      "cell_type": "markdown",
      "source": [
        "#Exploratory Data Analysis"
      ],
      "metadata": {
        "id": "ZrI3DtMwS08v"
      }
    },
    {
      "cell_type": "code",
      "source": [
        "#Plotting the distribution of salary\n",
        "plt.figure(figsize=(5,3))\n",
        "sns.distplot(df['Salary'])\n",
        "plt.title('Distribution of Salary')\n",
        "plt.xlabel('Salary')\n",
        "plt.ylabel('Frequency')\n",
        "plt.show()"
      ],
      "metadata": {
        "colab": {
          "base_uri": "https://localhost:8080/",
          "height": 333
        },
        "id": "lZNgoEmVP-bA",
        "outputId": "71b74f60-6b80-4251-c521-9ab1ae85a72e"
      },
      "execution_count": 8,
      "outputs": [
        {
          "output_type": "display_data",
          "data": {
            "text/plain": [
              "<Figure size 500x300 with 1 Axes>"
            ],
            "image/png": "[encoded data removed]"
          },
          "metadata": {}
        }
      ]
    },
    {
      "cell_type": "markdown",
      "source": [
        "**Observations:**\n",
        "\n",
        "* The salary distribution is bimodal with peaks around 70,000 USD and 150,000 USD.\n",
        "* This suggests two distinct salary groups within the dataset.\n",
        "* The distribution is not perfectly symmetrical and shows some skew."
      ],
      "metadata": {
        "id": "Wl7CiDw5Tji8"
      }
    },
    {
      "cell_type": "code",
      "source": [
        "# Getting the columns\n",
        "df.columns"
      ],
      "metadata": {
        "colab": {
          "base_uri": "https://localhost:8080/"
        },
        "id": "VgRGrcC_PTOd",
        "outputId": "a2d83e05-45aa-4685-ec8b-5f5a86aee543"
      },
      "execution_count": 9,
      "outputs": [
        {
          "output_type": "execute_result",
          "data": {
            "text/plain": [
              "Index(['Employee_ID', 'Name', 'Age', 'Gender', 'Department', 'Job_Title',\n",
              "       'Experience_Years', 'Education_Level', 'Location', 'Salary'],\n",
              "      dtype='object')"
            ]
          },
          "metadata": {},
          "execution_count": 9
        }
      ]
    },
    {
      "cell_type": "code",
      "source": [
        "#Age vs salary\n",
        "plt.figure(figsize =(8,5))\n",
        "sns.boxplot(x='Age',y='Salary',data=df)\n",
        "plt.title('Age vs Salary')\n",
        "plt.xlabel('Age')\n",
        "plt.ylabel('Salary')\n",
        "plt.show()"
      ],
      "metadata": {
        "colab": {
          "base_uri": "https://localhost:8080/",
          "height": 487
        },
        "id": "kdwF7ztTPTId",
        "outputId": "f575eb4e-525a-41d0-e564-9376c0a4822d"
      },
      "execution_count": 10,
      "outputs": [
        {
          "output_type": "display_data",
          "data": {
            "text/plain": [
              "<Figure size 800x500 with 1 Axes>"
            ],
            "image/png": "[encoded data removed]"
          },
          "metadata": {}
        }
      ]
    },
    {
      "cell_type": "markdown",
      "metadata": {
        "id": "5d19a33b"
      },
      "source": [
        "**Observations from Age vs Salary Plot:**\n",
        "\n",
        "*   Salaries generally increase with age.\n",
        "*   Younger employees tend to have lower salaries with less variation.\n",
        "*   Older employees have a wider range of salaries.\n",
        "*   The median salary increases with age."
      ]
    },
    {
      "cell_type": "code",
      "source": [
        "# Calculate the average salary by department\n",
        "avg_salary_by_dept = df.groupby('Department')['Salary'].mean().sort_values(ascending=False)\n",
        "\n",
        "# Plotting the average salary by department using seaborn\n",
        "plt.figure(figsize=(6,3))\n",
        "sns.barplot(x=avg_salary_by_dept.index, y=avg_salary_by_dept.values, palette='viridis')\n",
        "plt.title('Average Salary by Department')\n",
        "plt.xlabel('Department')\n",
        "plt.ylabel('Average Salary')\n",
        "plt.xticks(rotation=45, ha='right') # Rotate x-axis labels for better readability\n",
        "plt.tight_layout() # Adjust layout to prevent labels from overlapping\n",
        "plt.show()"
      ],
      "metadata": {
        "colab": {
          "base_uri": "https://localhost:8080/",
          "height": 307
        },
        "id": "WCFp1IfVP_Bm",
        "outputId": "252e3154-8557-486f-c189-5b49b0897df1"
      },
      "execution_count": 18,
      "outputs": [
        {
          "output_type": "display_data",
          "data": {
            "text/plain": [
              "<Figure size 600x300 with 1 Axes>"
            ],
            "image/png": "[encoded data removed]"
          },
          "metadata": {}
        }
      ]
    },
    {
      "cell_type": "markdown",
      "metadata": {
        "id": "2bc72296"
      },
      "source": [
        "**Observations from Average Salary by Department Plot:**\n",
        "\n",
        "*   The plot clearly shows the average salary for each department.\n",
        "*   The Finance department has the highest average salary, followed by Sales and HR.\n",
        "*   Engineering and Marketing departments have the lowest average salaries.\n",
        "*   There is a notable difference in average salaries across different departments, suggesting that the department is a relevant factor in determining salary."
      ]
    },
    {
      "cell_type": "code",
      "source": [
        "#Gender vs average salary\n",
        "avg_salary_by_gender = df.groupby('Gender')['Salary'].mean()\n",
        "plt.figure(figsize=(5,3))\n",
        "sns.barplot(x=avg_salary_by_gender.index, y=avg_salary_by_gender.values, palette='viridis')\n",
        "plt.title('Average Salary by Gender')\n",
        "plt.xlabel('Gender')\n",
        "plt.ylabel('Average Salary')\n",
        "plt.show()\n"
      ],
      "metadata": {
        "colab": {
          "base_uri": "https://localhost:8080/",
          "height": 333
        },
        "id": "MYNjZox2S9eP",
        "outputId": "6feee2ee-2e5d-42cb-cec3-f7de5c8fb43e"
      },
      "execution_count": 24,
      "outputs": [
        {
          "output_type": "display_data",
          "data": {
            "text/plain": [
              "<Figure size 500x300 with 1 Axes>"
            ],
            "image/png": "[encoded data removed]"
          },
          "metadata": {}
        }
      ]
    },
    {
      "cell_type": "code",
      "source": [
        "#Experience_level vs salary\n",
        "avg_salary_by_experience = df.groupby('Experience_Years')['Salary'].mean()\n",
        "plt.figure(figsize=(8,5))\n",
        "sns.barplot(x=avg_salary_by_experience.index, y=avg_salary_by_experience.values, palette='viridis')\n",
        "plt.title('Average Salary by Experience')\n",
        "plt.xlabel('Experience')\n",
        "plt.ylabel('Average Salary')"
      ],
      "metadata": {
        "colab": {
          "base_uri": "https://localhost:8080/",
          "height": 504
        },
        "id": "_Wjce9wRTK10",
        "outputId": "8fb0954f-aaea-4b19-f7c9-48705c86367e"
      },
      "execution_count": 27,
      "outputs": [
        {
          "output_type": "execute_result",
          "data": {
            "text/plain": [
              "Text(0, 0.5, 'Average Salary')"
            ]
          },
          "metadata": {},
          "execution_count": 27
        },
        {
          "output_type": "display_data",
          "data": {
            "text/plain": [
              "<Figure size 800x500 with 1 Axes>"
            ],
            "image/png": "[encoded data removed]"
          },
          "metadata": {}
        }
      ]
    },
    {
      "cell_type": "markdown",
      "metadata": {
        "id": "8d17b2a2"
      },
      "source": [
        "**Observations from Average Salary by Experience Plot:**\n",
        "\n",
        "*   Average salary generally increases with years of experience.\n",
        "*   There is a strong positive relationship between experience and salary.\n"
      ]
    },
    {
      "cell_type": "code",
      "source": [
        "#Education_level vs salary\n",
        "plt.figure(figsize=(5,3))\n",
        "sns.barplot(x='Education_Level', y='Salary',data = df, palette='viridis')\n",
        "plt.title('Average Salary by Education Level')"
      ],
      "metadata": {
        "colab": {
          "base_uri": "https://localhost:8080/",
          "height": 350
        },
        "id": "irF6DXR6TwqL",
        "outputId": "295c2f0e-6608-44af-b360-6a12eca988b4"
      },
      "execution_count": 37,
      "outputs": [
        {
          "output_type": "execute_result",
          "data": {
            "text/plain": [
              "Text(0.5, 1.0, 'Average Salary by Education Level')"
            ]
          },
          "metadata": {},
          "execution_count": 37
        },
        {
          "output_type": "display_data",
          "data": {
            "text/plain": [
              "<Figure size 500x300 with 1 Axes>"
            ],
            "image/png": "[encoded data removed]"
          },
          "metadata": {}
        }
      ]
    },
    {
      "cell_type": "markdown",
      "metadata": {
        "id": "_J2gteWOXosR"
      },
      "source": [
        "**Observations from Average Salary by Education Level Plot:**\n",
        "\n",
        "*   Average salary increases significantly with higher education levels.\n",
        "*   Employees with a PhD have the highest average salary, followed by those with a Master's degree.\n",
        "*   Employees with a Bachelor's degree have the lowest average salary.\n",
        "*   Education level is a strong predictor of average salary."
      ]
    },
    {
      "cell_type": "code",
      "source": [
        "sns.barplot(x='Location', y='Salary',data = df, palette='viridis')\n",
        "plt.title('Salary by Location')\n",
        "plt.show()"
      ],
      "metadata": {
        "colab": {
          "base_uri": "https://localhost:8080/",
          "height": 472
        },
        "id": "1esH1cgTUh_t",
        "outputId": "06dd682a-af59-4f8e-8f11-9e97d3fa3d43"
      },
      "execution_count": 35,
      "outputs": [
        {
          "output_type": "display_data",
          "data": {
            "text/plain": [
              "<Figure size 640x480 with 1 Axes>"
            ],
            "image/png": "[encoded data removed]"
          },
          "metadata": {}
        }
      ]
    },
    {
      "cell_type": "markdown",
      "metadata": {
        "id": "7bbaf065"
      },
      "source": [
        "**Observations from Average Salary by Education Level Plot:**\n",
        "\n",
        "*   Average salary increases significantly with higher education levels.\n",
        "*   Employees with a PhD have the highest average salary, followed by those with a Master's degree.\n",
        "*   Employees with a Bachelor's degree have the lowest average salary.\n",
        "*   Education level is a strong predictor of average salary."
      ]
    },
    {
      "cell_type": "markdown",
      "metadata": {
        "id": "e1b10edb"
      },
      "source": [
        "**Observation from Average Salary by Location Plot:** There is only a slight variation in average salary across the different locations, suggesting location may not be a primary factor in salary determination in this dataset."
      ]
    },
    {
      "cell_type": "markdown",
      "source": [
        "#Correlation using heatmap"
      ],
      "metadata": {
        "id": "xupAzXchVwJH"
      }
    },
    {
      "cell_type": "code",
      "source": [
        "#Heatmap for correlation\n",
        "sns.heatmap(df.select_dtypes(include =np.number).corr(),annot=True)\n",
        "plt.title('Correlation Heatmap')\n",
        "plt.show()\n"
      ],
      "metadata": {
        "colab": {
          "base_uri": "https://localhost:8080/",
          "height": 452
        },
        "id": "zpxZ54htVvnB",
        "outputId": "639fe3f0-32ca-481b-a064-2b7998a65196"
      },
      "execution_count": 31,
      "outputs": [
        {
          "output_type": "display_data",
          "data": {
            "text/plain": [
              "<Figure size 640x480 with 2 Axes>"
            ],
            "image/png": "[encoded data removed]"
          },
          "metadata": {}
        }
      ]
    },
    {
      "cell_type": "markdown",
      "metadata": {
        "id": "ea678fc5"
      },
      "source": [
        "**Observations from Correlation Heatmap:**\n",
        "\n",
        "*   There is a very strong positive correlation (0.98) between 'Age' and 'Experience_Years', which is expected as experience generally increases with age.\n",
        "*   There is a strong positive correlation (0.93) between 'Age' and 'Salary', indicating that older employees tend to have higher salaries.\n",
        "*   There is a strong positive correlation (0.90) between 'Experience_Years' and 'Salary', indicating that employees with more experience tend to have higher salaries.\n"
      ]
    },
    {
      "cell_type": "markdown",
      "source": [
        "#Data Preprocessing"
      ],
      "metadata": {
        "id": "ogEIS4xdYSUP"
      }
    },
    {
      "cell_type": "code",
      "source": [
        "# Seperating the data into input features and target variabe\n",
        "X = df.drop('Salary', axis=1)\n",
        "y = df['Salary']"
      ],
      "metadata": {
        "id": "zMzhpOzqV9tR"
      },
      "execution_count": 38,
      "outputs": []
    },
    {
      "cell_type": "code",
      "source": [
        "# Getting the list of columns\n",
        "print(X.columns)"
      ],
      "metadata": {
        "colab": {
          "base_uri": "https://localhost:8080/"
        },
        "id": "NxJuuPOnYlbx",
        "outputId": "bf8d6e32-4374-4338-ba69-79ad7d6e9b0f"
      },
      "execution_count": 39,
      "outputs": [
        {
          "output_type": "stream",
          "name": "stdout",
          "text": [
            "Index(['Employee_ID', 'Name', 'Age', 'Gender', 'Department', 'Job_Title',\n",
            "       'Experience_Years', 'Education_Level', 'Location'],\n",
            "      dtype='object')\n"
          ]
        }
      ]
    },
    {
      "cell_type": "code",
      "source": [
        "# Getting the list of categorical columns and numerical columns\n",
        "categorical = ['Gender','Department', 'Job_Title','Education_Level','Location']\n",
        "numerical = ['Age','Experience_Years']"
      ],
      "metadata": {
        "id": "tbkLTkfnYpqc"
      },
      "execution_count": 44,
      "outputs": []
    },
    {
      "cell_type": "code",
      "source": [
        "# Preprocessing columns\n",
        "preprocessor = ColumnTransformer([\n",
        "    ('num', StandardScaler(), numerical),\n",
        "    ('cat', OneHotEncoder(drop='first'), categorical)\n",
        "])"
      ],
      "metadata": {
        "id": "OYpzPvVbZOM8"
      },
      "execution_count": 45,
      "outputs": []
    },
    {
      "cell_type": "markdown",
      "source": [
        "# Splitting the data into train and test"
      ],
      "metadata": {
        "id": "cnR9jMCrZVEf"
      }
    },
    {
      "cell_type": "code",
      "source": [
        "# Splitting the data into training and testing\n",
        "X_train, X_test, y_train, y_test = train_test_split(X, y, test_size = 0.2, random_state = 5)"
      ],
      "metadata": {
        "id": "QsZu2BMtZRBS"
      },
      "execution_count": 46,
      "outputs": []
    },
    {
      "cell_type": "code",
      "source": [
        "# Preprocessing the data\n",
        "X_train = preprocessor.fit_transform(X_train)\n",
        "X_test = preprocessor.transform(X_test)"
      ],
      "metadata": {
        "id": "PTwvkWsBZZYn"
      },
      "execution_count": 47,
      "outputs": []
    },
    {
      "cell_type": "markdown",
      "source": [
        "#Model Building"
      ],
      "metadata": {
        "id": "HbIIsffQZttR"
      }
    },
    {
      "cell_type": "code",
      "source": [
        "#Base line ANN model\n",
        "model_base = Sequential([\n",
        "    Dense(8, input_dim = X_train.shape[1], activation = 'relu'),\n",
        "    Dense(1)\n",
        "])"
      ],
      "metadata": {
        "id": "f7f26GNlZbWu"
      },
      "execution_count": 48,
      "outputs": []
    },
    {
      "cell_type": "code",
      "source": [
        "#Compiling the model\n",
        "model_base.compile(optimizer = 'adam', loss = 'mse', metrics = ['r2_score'])"
      ],
      "metadata": {
        "id": "848bhP1DZ2sf"
      },
      "execution_count": 49,
      "outputs": []
    },
    {
      "cell_type": "code",
      "source": [
        "#Training the model\n",
        "history_base = model_base.fit(X_train, y_train, validation_data = (X_test, y_test), epochs =100, verbose = 1)"
      ],
      "metadata": {
        "colab": {
          "base_uri": "https://localhost:8080/"
        },
        "id": "Oay6XNFdZ948",
        "outputId": "f763431d-cffa-41f2-c7a6-be603dedf571"
      },
      "execution_count": 50,
      "outputs": [
        {
          "output_type": "stream",
          "name": "stdout",
          "text": [
            "Epoch 1/100\n",
            "\u001b[1m250/250\u001b[0m \u001b[32m━━━━━━━━━━━━━━━━━━━━\u001b[0m\u001b[37m\u001b[0m \u001b[1m3s\u001b[0m 5ms/step - loss: 15260661760.0000 - r2_score: -6.1948 - val_loss: 15683334144.0000 - val_r2_score: -6.4461\n",
            "Epoch 2/100\n",
            "\u001b[1m250/250\u001b[0m \u001b[32m━━━━━━━━━━━━━━━━━━━━\u001b[0m\u001b[37m\u001b[0m \u001b[1m1s\u001b[0m 3ms/step - loss: 15287612416.0000 - r2_score: -6.1000 - val_loss: 15680147456.0000 - val_r2_score: -6.4446\n",
            "Epoch 3/100\n",
            "\u001b[1m250/250\u001b[0m \u001b[32m━━━━━━━━━━━━━━━━━━━━\u001b[0m\u001b[37m\u001b[0m \u001b[1m1s\u001b[0m 3ms/step - loss: 15260957696.0000 - r2_score: -6.2833 - val_loss: 15674991616.0000 - val_r2_score: -6.4422\n",
            "Epoch 4/100\n",
            "\u001b[1m250/250\u001b[0m \u001b[32m━━━━━━━━━━━━━━━━━━━━\u001b[0m\u001b[37m\u001b[0m \u001b[1m1s\u001b[0m 3ms/step - loss: 15221710848.0000 - r2_score: -6.1595 - val_loss: 15668139008.0000 - val_r2_score: -6.4389\n",
            "Epoch 5/100\n",
            "\u001b[1m250/250\u001b[0m \u001b[32m━━━━━━━━━━━━━━━━━━━━\u001b[0m\u001b[37m\u001b[0m \u001b[1m1s\u001b[0m 3ms/step - loss: 15264653312.0000 - r2_score: -6.2576 - val_loss: 15659757568.0000 - val_r2_score: -6.4349\n",
            "Epoch 6/100\n",
            "\u001b[1m250/250\u001b[0m \u001b[32m━━━━━━━━━━━━━━━━━━━━\u001b[0m\u001b[37m\u001b[0m \u001b[1m1s\u001b[0m 3ms/step - loss: 15564317696.0000 - r2_score: -6.1959 - val_loss: 15649961984.0000 - val_r2_score: -6.4303\n",
            "Epoch 7/100\n",
            "\u001b[1m250/250\u001b[0m \u001b[32m━━━━━━━━━━━━━━━━━━━━\u001b[0m\u001b[37m\u001b[0m \u001b[1m2s\u001b[0m 4ms/step - loss: 15162766336.0000 - r2_score: -6.1596 - val_loss: 15638822912.0000 - val_r2_score: -6.4250\n",
            "Epoch 8/100\n",
            "\u001b[1m250/250\u001b[0m \u001b[32m━━━━━━━━━━━━━━━━━━━━\u001b[0m\u001b[37m\u001b[0m \u001b[1m1s\u001b[0m 5ms/step - loss: 15299892224.0000 - r2_score: -6.2382 - val_loss: 15626422272.0000 - val_r2_score: -6.4191\n",
            "Epoch 9/100\n",
            "\u001b[1m250/250\u001b[0m \u001b[32m━━━━━━━━━━━━━━━━━━━━\u001b[0m\u001b[37m\u001b[0m \u001b[1m1s\u001b[0m 3ms/step - loss: 15244139520.0000 - r2_score: -6.2094 - val_loss: 15612858368.0000 - val_r2_score: -6.4127\n",
            "Epoch 10/100\n",
            "\u001b[1m250/250\u001b[0m \u001b[32m━━━━━━━━━━━━━━━━━━━━\u001b[0m\u001b[37m\u001b[0m \u001b[1m1s\u001b[0m 3ms/step - loss: 15266030592.0000 - r2_score: -6.3147 - val_loss: 15598141440.0000 - val_r2_score: -6.4057\n",
            "Epoch 11/100\n",
            "\u001b[1m250/250\u001b[0m \u001b[32m━━━━━━━━━━━━━━━━━━━━\u001b[0m\u001b[37m\u001b[0m \u001b[1m1s\u001b[0m 3ms/step - loss: 15151821824.0000 - r2_score: -6.2428 - val_loss: 15582372864.0000 - val_r2_score: -6.3982\n",
            "Epoch 12/100\n",
            "\u001b[1m250/250\u001b[0m \u001b[32m━━━━━━━━━━━━━━━━━━━━\u001b[0m\u001b[37m\u001b[0m \u001b[1m1s\u001b[0m 3ms/step - loss: 15480538112.0000 - r2_score: -6.3225 - val_loss: 15565543424.0000 - val_r2_score: -6.3902\n",
            "Epoch 13/100\n",
            "\u001b[1m250/250\u001b[0m \u001b[32m━━━━━━━━━━━━━━━━━━━━\u001b[0m\u001b[37m\u001b[0m \u001b[1m1s\u001b[0m 3ms/step - loss: 15386271744.0000 - r2_score: -6.0457 - val_loss: 15547717632.0000 - val_r2_score: -6.3817\n",
            "Epoch 14/100\n",
            "\u001b[1m250/250\u001b[0m \u001b[32m━━━━━━━━━━━━━━━━━━━━\u001b[0m\u001b[37m\u001b[0m \u001b[1m1s\u001b[0m 4ms/step - loss: 15245575168.0000 - r2_score: -6.2397 - val_loss: 15528910848.0000 - val_r2_score: -6.3728\n",
            "Epoch 15/100\n",
            "\u001b[1m250/250\u001b[0m \u001b[32m━━━━━━━━━━━━━━━━━━━━\u001b[0m\u001b[37m\u001b[0m \u001b[1m1s\u001b[0m 5ms/step - loss: 14994316288.0000 - r2_score: -6.0686 - val_loss: 15509152768.0000 - val_r2_score: -6.3634\n",
            "Epoch 16/100\n",
            "\u001b[1m250/250\u001b[0m \u001b[32m━━━━━━━━━━━━━━━━━━━━\u001b[0m\u001b[37m\u001b[0m \u001b[1m1s\u001b[0m 4ms/step - loss: 14986572800.0000 - r2_score: -6.1476 - val_loss: 15488470016.0000 - val_r2_score: -6.3536\n",
            "Epoch 17/100\n",
            "\u001b[1m250/250\u001b[0m \u001b[32m━━━━━━━━━━━━━━━━━━━━\u001b[0m\u001b[37m\u001b[0m \u001b[1m1s\u001b[0m 3ms/step - loss: 15091120128.0000 - r2_score: -6.1294 - val_loss: 15466901504.0000 - val_r2_score: -6.3434\n",
            "Epoch 18/100\n",
            "\u001b[1m250/250\u001b[0m \u001b[32m━━━━━━━━━━━━━━━━━━━━\u001b[0m\u001b[37m\u001b[0m \u001b[1m1s\u001b[0m 3ms/step - loss: 15172993024.0000 - r2_score: -6.1658 - val_loss: 15444506624.0000 - val_r2_score: -6.3327\n",
            "Epoch 19/100\n",
            "\u001b[1m250/250\u001b[0m \u001b[32m━━━━━━━━━━━━━━━━━━━━\u001b[0m\u001b[37m\u001b[0m \u001b[1m1s\u001b[0m 4ms/step - loss: 15060380672.0000 - r2_score: -6.0193 - val_loss: 15421258752.0000 - val_r2_score: -6.3217\n",
            "Epoch 20/100\n",
            "\u001b[1m250/250\u001b[0m \u001b[32m━━━━━━━━━━━━━━━━━━━━\u001b[0m\u001b[37m\u001b[0m \u001b[1m1s\u001b[0m 5ms/step - loss: 15310178304.0000 - r2_score: -6.2250 - val_loss: 15397138432.0000 - val_r2_score: -6.3102\n",
            "Epoch 21/100\n",
            "\u001b[1m250/250\u001b[0m \u001b[32m━━━━━━━━━━━━━━━━━━━━\u001b[0m\u001b[37m\u001b[0m \u001b[1m2s\u001b[0m 6ms/step - loss: 15374336000.0000 - r2_score: -6.0502 - val_loss: 15372143616.0000 - val_r2_score: -6.2984\n",
            "Epoch 22/100\n",
            "\u001b[1m250/250\u001b[0m \u001b[32m━━━━━━━━━━━━━━━━━━━━\u001b[0m\u001b[37m\u001b[0m \u001b[1m2s\u001b[0m 3ms/step - loss: 15368332288.0000 - r2_score: -6.2370 - val_loss: 15346379776.0000 - val_r2_score: -6.2861\n",
            "Epoch 23/100\n",
            "\u001b[1m250/250\u001b[0m \u001b[32m━━━━━━━━━━━━━━━━━━━━\u001b[0m\u001b[37m\u001b[0m \u001b[1m1s\u001b[0m 3ms/step - loss: 15021633536.0000 - r2_score: -6.0731 - val_loss: 15319763968.0000 - val_r2_score: -6.2735\n",
            "Epoch 24/100\n",
            "\u001b[1m250/250\u001b[0m \u001b[32m━━━━━━━━━━━━━━━━━━━━\u001b[0m\u001b[37m\u001b[0m \u001b[1m1s\u001b[0m 3ms/step - loss: 14992564224.0000 - r2_score: -6.1149 - val_loss: 15292295168.0000 - val_r2_score: -6.2605\n",
            "Epoch 25/100\n",
            "\u001b[1m250/250\u001b[0m \u001b[32m━━━━━━━━━━━━━━━━━━━━\u001b[0m\u001b[37m\u001b[0m \u001b[1m1s\u001b[0m 3ms/step - loss: 15128418304.0000 - r2_score: -6.0486 - val_loss: 15263944704.0000 - val_r2_score: -6.2470\n",
            "Epoch 26/100\n",
            "\u001b[1m250/250\u001b[0m \u001b[32m━━━━━━━━━━━━━━━━━━━━\u001b[0m\u001b[37m\u001b[0m \u001b[1m1s\u001b[0m 3ms/step - loss: 15188768768.0000 - r2_score: -5.9904 - val_loss: 15234966528.0000 - val_r2_score: -6.2332\n",
            "Epoch 27/100\n",
            "\u001b[1m250/250\u001b[0m \u001b[32m━━━━━━━━━━━━━━━━━━━━\u001b[0m\u001b[37m\u001b[0m \u001b[1m1s\u001b[0m 3ms/step - loss: 14920644608.0000 - r2_score: -6.0480 - val_loss: 15205092352.0000 - val_r2_score: -6.2191\n",
            "Epoch 28/100\n",
            "\u001b[1m250/250\u001b[0m \u001b[32m━━━━━━━━━━━━━━━━━━━━\u001b[0m\u001b[37m\u001b[0m \u001b[1m1s\u001b[0m 3ms/step - loss: 14709399552.0000 - r2_score: -5.8265 - val_loss: 15174531072.0000 - val_r2_score: -6.2045\n",
            "Epoch 29/100\n",
            "\u001b[1m250/250\u001b[0m \u001b[32m━━━━━━━━━━━━━━━━━━━━\u001b[0m\u001b[37m\u001b[0m \u001b[1m1s\u001b[0m 3ms/step - loss: 14978229248.0000 - r2_score: -6.1640 - val_loss: 15143038976.0000 - val_r2_score: -6.1896\n",
            "Epoch 30/100\n",
            "\u001b[1m250/250\u001b[0m \u001b[32m━━━━━━━━━━━━━━━━━━━━\u001b[0m\u001b[37m\u001b[0m \u001b[1m1s\u001b[0m 3ms/step - loss: 14792391680.0000 - r2_score: -5.9836 - val_loss: 15110865920.0000 - val_r2_score: -6.1743\n",
            "Epoch 31/100\n",
            "\u001b[1m250/250\u001b[0m \u001b[32m━━━━━━━━━━━━━━━━━━━━\u001b[0m\u001b[37m\u001b[0m \u001b[1m2s\u001b[0m 4ms/step - loss: 14689154048.0000 - r2_score: -5.8821 - val_loss: 15077884928.0000 - val_r2_score: -6.1587\n",
            "Epoch 32/100\n",
            "\u001b[1m250/250\u001b[0m \u001b[32m━━━━━━━━━━━━━━━━━━━━\u001b[0m\u001b[37m\u001b[0m \u001b[1m1s\u001b[0m 4ms/step - loss: 14763702272.0000 - r2_score: -5.8668 - val_loss: 15044114432.0000 - val_r2_score: -6.1426\n",
            "Epoch 33/100\n",
            "\u001b[1m250/250\u001b[0m \u001b[32m━━━━━━━━━━━━━━━━━━━━\u001b[0m\u001b[37m\u001b[0m \u001b[1m1s\u001b[0m 3ms/step - loss: 14791308288.0000 - r2_score: -5.9857 - val_loss: 15009607680.0000 - val_r2_score: -6.1262\n",
            "Epoch 34/100\n",
            "\u001b[1m250/250\u001b[0m \u001b[32m━━━━━━━━━━━━━━━━━━━━\u001b[0m\u001b[37m\u001b[0m \u001b[1m1s\u001b[0m 3ms/step - loss: 14513769472.0000 - r2_score: -5.8721 - val_loss: 14974328832.0000 - val_r2_score: -6.1095\n",
            "Epoch 35/100\n",
            "\u001b[1m250/250\u001b[0m \u001b[32m━━━━━━━━━━━━━━━━━━━━\u001b[0m\u001b[37m\u001b[0m \u001b[1m1s\u001b[0m 3ms/step - loss: 14741614592.0000 - r2_score: -5.8373 - val_loss: 14938237952.0000 - val_r2_score: -6.0924\n",
            "Epoch 36/100\n",
            "\u001b[1m250/250\u001b[0m \u001b[32m━━━━━━━━━━━━━━━━━━━━\u001b[0m\u001b[37m\u001b[0m \u001b[1m1s\u001b[0m 3ms/step - loss: 14645500928.0000 - r2_score: -5.8833 - val_loss: 14901451776.0000 - val_r2_score: -6.0749\n",
            "Epoch 37/100\n",
            "\u001b[1m250/250\u001b[0m \u001b[32m━━━━━━━━━━━━━━━━━━━━\u001b[0m\u001b[37m\u001b[0m \u001b[1m1s\u001b[0m 3ms/step - loss: 14479345664.0000 - r2_score: -5.8529 - val_loss: 14863937536.0000 - val_r2_score: -6.0571\n",
            "Epoch 38/100\n",
            "\u001b[1m250/250\u001b[0m \u001b[32m━━━━━━━━━━━━━━━━━━━━\u001b[0m\u001b[37m\u001b[0m \u001b[1m1s\u001b[0m 4ms/step - loss: 14412064768.0000 - r2_score: -5.7729 - val_loss: 14825835520.0000 - val_r2_score: -6.0390\n",
            "Epoch 39/100\n",
            "\u001b[1m250/250\u001b[0m \u001b[32m━━━━━━━━━━━━━━━━━━━━\u001b[0m\u001b[37m\u001b[0m \u001b[1m2s\u001b[0m 5ms/step - loss: 14548259840.0000 - r2_score: -5.9519 - val_loss: 14786676736.0000 - val_r2_score: -6.0204\n",
            "Epoch 40/100\n",
            "\u001b[1m250/250\u001b[0m \u001b[32m━━━━━━━━━━━━━━━━━━━━\u001b[0m\u001b[37m\u001b[0m \u001b[1m2s\u001b[0m 4ms/step - loss: 14581743616.0000 - r2_score: -5.8018 - val_loss: 14746985472.0000 - val_r2_score: -6.0016\n",
            "Epoch 41/100\n",
            "\u001b[1m250/250\u001b[0m \u001b[32m━━━━━━━━━━━━━━━━━━━━\u001b[0m\u001b[37m\u001b[0m \u001b[1m1s\u001b[0m 4ms/step - loss: 14629660672.0000 - r2_score: -5.9324 - val_loss: 14706527232.0000 - val_r2_score: -5.9823\n",
            "Epoch 42/100\n",
            "\u001b[1m250/250\u001b[0m \u001b[32m━━━━━━━━━━━━━━━━━━━━\u001b[0m\u001b[37m\u001b[0m \u001b[1m1s\u001b[0m 3ms/step - loss: 14279753728.0000 - r2_score: -5.6697 - val_loss: 14665350144.0000 - val_r2_score: -5.9628\n",
            "Epoch 43/100\n",
            "\u001b[1m250/250\u001b[0m \u001b[32m━━━━━━━━━━━━━━━━━━━━\u001b[0m\u001b[37m\u001b[0m \u001b[1m1s\u001b[0m 3ms/step - loss: 14349523968.0000 - r2_score: -5.8051 - val_loss: 14623481856.0000 - val_r2_score: -5.9429\n",
            "Epoch 44/100\n",
            "\u001b[1m250/250\u001b[0m \u001b[32m━━━━━━━━━━━━━━━━━━━━\u001b[0m\u001b[37m\u001b[0m \u001b[1m1s\u001b[0m 3ms/step - loss: 14432161792.0000 - r2_score: -5.6660 - val_loss: 14580857856.0000 - val_r2_score: -5.9227\n",
            "Epoch 45/100\n",
            "\u001b[1m250/250\u001b[0m \u001b[32m━━━━━━━━━━━━━━━━━━━━\u001b[0m\u001b[37m\u001b[0m \u001b[1m1s\u001b[0m 3ms/step - loss: 14293658624.0000 - r2_score: -5.7419 - val_loss: 14537587712.0000 - val_r2_score: -5.9021\n",
            "Epoch 46/100\n",
            "\u001b[1m250/250\u001b[0m \u001b[32m━━━━━━━━━━━━━━━━━━━━\u001b[0m\u001b[37m\u001b[0m \u001b[1m1s\u001b[0m 3ms/step - loss: 14470886400.0000 - r2_score: -5.7816 - val_loss: 14493573120.0000 - val_r2_score: -5.8812\n",
            "Epoch 47/100\n",
            "\u001b[1m250/250\u001b[0m \u001b[32m━━━━━━━━━━━━━━━━━━━━\u001b[0m\u001b[37m\u001b[0m \u001b[1m1s\u001b[0m 3ms/step - loss: 14217163776.0000 - r2_score: -5.6959 - val_loss: 14448826368.0000 - val_r2_score: -5.8600\n",
            "Epoch 48/100\n",
            "\u001b[1m250/250\u001b[0m \u001b[32m━━━━━━━━━━━━━━━━━━━━\u001b[0m\u001b[37m\u001b[0m \u001b[1m1s\u001b[0m 3ms/step - loss: 14372679680.0000 - r2_score: -5.7466 - val_loss: 14403408896.0000 - val_r2_score: -5.8384\n",
            "Epoch 49/100\n",
            "\u001b[1m250/250\u001b[0m \u001b[32m━━━━━━━━━━━━━━━━━━━━\u001b[0m\u001b[37m\u001b[0m \u001b[1m1s\u001b[0m 3ms/step - loss: 14001648640.0000 - r2_score: -5.7795 - val_loss: 14357380096.0000 - val_r2_score: -5.8166\n",
            "Epoch 50/100\n",
            "\u001b[1m250/250\u001b[0m \u001b[32m━━━━━━━━━━━━━━━━━━━━\u001b[0m\u001b[37m\u001b[0m \u001b[1m1s\u001b[0m 4ms/step - loss: 14063567872.0000 - r2_score: -5.6509 - val_loss: 14310566912.0000 - val_r2_score: -5.7944\n",
            "Epoch 51/100\n",
            "\u001b[1m250/250\u001b[0m \u001b[32m━━━━━━━━━━━━━━━━━━━━\u001b[0m\u001b[37m\u001b[0m \u001b[1m1s\u001b[0m 3ms/step - loss: 13880036352.0000 - r2_score: -5.4456 - val_loss: 14263093248.0000 - val_r2_score: -5.7718\n",
            "Epoch 52/100\n",
            "\u001b[1m250/250\u001b[0m \u001b[32m━━━━━━━━━━━━━━━━━━━━\u001b[0m\u001b[37m\u001b[0m \u001b[1m2s\u001b[0m 4ms/step - loss: 14122061824.0000 - r2_score: -5.5009 - val_loss: 14214947840.0000 - val_r2_score: -5.7490\n",
            "Epoch 53/100\n",
            "\u001b[1m250/250\u001b[0m \u001b[32m━━━━━━━━━━━━━━━━━━━━\u001b[0m\u001b[37m\u001b[0m \u001b[1m1s\u001b[0m 3ms/step - loss: 13882545152.0000 - r2_score: -5.6026 - val_loss: 14166295552.0000 - val_r2_score: -5.7259\n",
            "Epoch 54/100\n",
            "\u001b[1m250/250\u001b[0m \u001b[32m━━━━━━━━━━━━━━━━━━━━\u001b[0m\u001b[37m\u001b[0m \u001b[1m1s\u001b[0m 3ms/step - loss: 13975971840.0000 - r2_score: -5.6153 - val_loss: 14116867072.0000 - val_r2_score: -5.7024\n",
            "Epoch 55/100\n",
            "\u001b[1m250/250\u001b[0m \u001b[32m━━━━━━━━━━━━━━━━━━━━\u001b[0m\u001b[37m\u001b[0m \u001b[1m1s\u001b[0m 3ms/step - loss: 13714758656.0000 - r2_score: -5.4966 - val_loss: 14066664448.0000 - val_r2_score: -5.6786\n",
            "Epoch 56/100\n",
            "\u001b[1m250/250\u001b[0m \u001b[32m━━━━━━━━━━━━━━━━━━━━\u001b[0m\u001b[37m\u001b[0m \u001b[1m1s\u001b[0m 3ms/step - loss: 13896004608.0000 - r2_score: -5.4705 - val_loss: 14016080896.0000 - val_r2_score: -5.6545\n",
            "Epoch 57/100\n",
            "\u001b[1m250/250\u001b[0m \u001b[32m━━━━━━━━━━━━━━━━━━━━\u001b[0m\u001b[37m\u001b[0m \u001b[1m1s\u001b[0m 3ms/step - loss: 13611902976.0000 - r2_score: -5.3306 - val_loss: 13964759040.0000 - val_r2_score: -5.6302\n",
            "Epoch 58/100\n",
            "\u001b[1m250/250\u001b[0m \u001b[32m━━━━━━━━━━━━━━━━━━━━\u001b[0m\u001b[37m\u001b[0m \u001b[1m1s\u001b[0m 3ms/step - loss: 13592989696.0000 - r2_score: -5.3716 - val_loss: 13912765440.0000 - val_r2_score: -5.6055\n",
            "Epoch 59/100\n",
            "\u001b[1m250/250\u001b[0m \u001b[32m━━━━━━━━━━━━━━━━━━━━\u001b[0m\u001b[37m\u001b[0m \u001b[1m1s\u001b[0m 3ms/step - loss: 13784310784.0000 - r2_score: -5.4802 - val_loss: 13860092928.0000 - val_r2_score: -5.5805\n",
            "Epoch 60/100\n",
            "\u001b[1m250/250\u001b[0m \u001b[32m━━━━━━━━━━━━━━━━━━━━\u001b[0m\u001b[37m\u001b[0m \u001b[1m1s\u001b[0m 3ms/step - loss: 13589058560.0000 - r2_score: -5.4202 - val_loss: 13806954496.0000 - val_r2_score: -5.5552\n",
            "Epoch 61/100\n",
            "\u001b[1m250/250\u001b[0m \u001b[32m━━━━━━━━━━━━━━━━━━━━\u001b[0m\u001b[37m\u001b[0m \u001b[1m1s\u001b[0m 3ms/step - loss: 13561331712.0000 - r2_score: -5.3351 - val_loss: 13753169920.0000 - val_r2_score: -5.5297\n",
            "Epoch 62/100\n",
            "\u001b[1m250/250\u001b[0m \u001b[32m━━━━━━━━━━━━━━━━━━━━\u001b[0m\u001b[37m\u001b[0m \u001b[1m1s\u001b[0m 3ms/step - loss: 13571434496.0000 - r2_score: -5.3425 - val_loss: 13698806784.0000 - val_r2_score: -5.5039\n",
            "Epoch 63/100\n",
            "\u001b[1m250/250\u001b[0m \u001b[32m━━━━━━━━━━━━━━━━━━━━\u001b[0m\u001b[37m\u001b[0m \u001b[1m2s\u001b[0m 5ms/step - loss: 13576015872.0000 - r2_score: -5.3851 - val_loss: 13643588608.0000 - val_r2_score: -5.4777\n",
            "Epoch 64/100\n",
            "\u001b[1m250/250\u001b[0m \u001b[32m━━━━━━━━━━━━━━━━━━━━\u001b[0m\u001b[37m\u001b[0m \u001b[1m1s\u001b[0m 4ms/step - loss: 13194041344.0000 - r2_score: -5.2361 - val_loss: 13588003840.0000 - val_r2_score: -5.4513\n",
            "Epoch 65/100\n",
            "\u001b[1m250/250\u001b[0m \u001b[32m━━━━━━━━━━━━━━━━━━━━\u001b[0m\u001b[37m\u001b[0m \u001b[1m1s\u001b[0m 3ms/step - loss: 13289043968.0000 - r2_score: -5.2794 - val_loss: 13531655168.0000 - val_r2_score: -5.4245\n",
            "Epoch 66/100\n",
            "\u001b[1m250/250\u001b[0m \u001b[32m━━━━━━━━━━━━━━━━━━━━\u001b[0m\u001b[37m\u001b[0m \u001b[1m1s\u001b[0m 3ms/step - loss: 13410188288.0000 - r2_score: -5.0989 - val_loss: 13474671616.0000 - val_r2_score: -5.3975\n",
            "Epoch 67/100\n",
            "\u001b[1m250/250\u001b[0m \u001b[32m━━━━━━━━━━━━━━━━━━━━\u001b[0m\u001b[37m\u001b[0m \u001b[1m1s\u001b[0m 3ms/step - loss: 13300897792.0000 - r2_score: -5.1926 - val_loss: 13417202688.0000 - val_r2_score: -5.3702\n",
            "Epoch 68/100\n",
            "\u001b[1m250/250\u001b[0m \u001b[32m━━━━━━━━━━━━━━━━━━━━\u001b[0m\u001b[37m\u001b[0m \u001b[1m1s\u001b[0m 3ms/step - loss: 13010441216.0000 - r2_score: -5.0070 - val_loss: 13359210496.0000 - val_r2_score: -5.3427\n",
            "Epoch 69/100\n",
            "\u001b[1m250/250\u001b[0m \u001b[32m━━━━━━━━━━━━━━━━━━━━\u001b[0m\u001b[37m\u001b[0m \u001b[1m1s\u001b[0m 3ms/step - loss: 12937948160.0000 - r2_score: -5.0530 - val_loss: 13300701184.0000 - val_r2_score: -5.3149\n",
            "Epoch 70/100\n",
            "\u001b[1m250/250\u001b[0m \u001b[32m━━━━━━━━━━━━━━━━━━━━\u001b[0m\u001b[37m\u001b[0m \u001b[1m1s\u001b[0m 3ms/step - loss: 12999052288.0000 - r2_score: -5.1373 - val_loss: 13241223168.0000 - val_r2_score: -5.2867\n",
            "Epoch 71/100\n",
            "\u001b[1m250/250\u001b[0m \u001b[32m━━━━━━━━━━━━━━━━━━━━\u001b[0m\u001b[37m\u001b[0m \u001b[1m1s\u001b[0m 3ms/step - loss: 12976851968.0000 - r2_score: -5.0546 - val_loss: 13181368320.0000 - val_r2_score: -5.2582\n",
            "Epoch 72/100\n",
            "\u001b[1m250/250\u001b[0m \u001b[32m━━━━━━━━━━━━━━━━━━━━\u001b[0m\u001b[37m\u001b[0m \u001b[1m1s\u001b[0m 3ms/step - loss: 12894299136.0000 - r2_score: -5.1075 - val_loss: 13121016832.0000 - val_r2_score: -5.2296\n",
            "Epoch 73/100\n",
            "\u001b[1m250/250\u001b[0m \u001b[32m━━━━━━━━━━━━━━━━━━━━\u001b[0m\u001b[37m\u001b[0m \u001b[1m2s\u001b[0m 4ms/step - loss: 12980751360.0000 - r2_score: -5.1100 - val_loss: 13060107264.0000 - val_r2_score: -5.2007\n",
            "Epoch 74/100\n",
            "\u001b[1m250/250\u001b[0m \u001b[32m━━━━━━━━━━━━━━━━━━━━\u001b[0m\u001b[37m\u001b[0m \u001b[1m1s\u001b[0m 5ms/step - loss: 12916678656.0000 - r2_score: -5.1448 - val_loss: 12998523904.0000 - val_r2_score: -5.1714\n",
            "Epoch 75/100\n",
            "\u001b[1m250/250\u001b[0m \u001b[32m━━━━━━━━━━━━━━━━━━━━\u001b[0m\u001b[37m\u001b[0m \u001b[1m2s\u001b[0m 3ms/step - loss: 12705212416.0000 - r2_score: -5.0493 - val_loss: 12936595456.0000 - val_r2_score: -5.1420\n",
            "Epoch 76/100\n",
            "\u001b[1m250/250\u001b[0m \u001b[32m━━━━━━━━━━━━━━━━━━━━\u001b[0m\u001b[37m\u001b[0m \u001b[1m1s\u001b[0m 3ms/step - loss: 12689324032.0000 - r2_score: -4.9562 - val_loss: 12873872384.0000 - val_r2_score: -5.1122\n",
            "Epoch 77/100\n",
            "\u001b[1m250/250\u001b[0m \u001b[32m━━━━━━━━━━━━━━━━━━━━\u001b[0m\u001b[37m\u001b[0m \u001b[1m1s\u001b[0m 3ms/step - loss: 12610148352.0000 - r2_score: -4.8866 - val_loss: 12810872832.0000 - val_r2_score: -5.0823\n",
            "Epoch 78/100\n",
            "\u001b[1m250/250\u001b[0m \u001b[32m━━━━━━━━━━━━━━━━━━━━\u001b[0m\u001b[37m\u001b[0m \u001b[1m1s\u001b[0m 3ms/step - loss: 12522333184.0000 - r2_score: -4.8641 - val_loss: 12747153408.0000 - val_r2_score: -5.0521\n",
            "Epoch 79/100\n",
            "\u001b[1m250/250\u001b[0m \u001b[32m━━━━━━━━━━━━━━━━━━━━\u001b[0m\u001b[37m\u001b[0m \u001b[1m1s\u001b[0m 3ms/step - loss: 12644077568.0000 - r2_score: -4.9207 - val_loss: 12683005952.0000 - val_r2_score: -5.0216\n",
            "Epoch 80/100\n",
            "\u001b[1m250/250\u001b[0m \u001b[32m━━━━━━━━━━━━━━━━━━━━\u001b[0m\u001b[37m\u001b[0m \u001b[1m1s\u001b[0m 3ms/step - loss: 12334753792.0000 - r2_score: -4.9262 - val_loss: 12618329088.0000 - val_r2_score: -4.9909\n",
            "Epoch 81/100\n",
            "\u001b[1m250/250\u001b[0m \u001b[32m━━━━━━━━━━━━━━━━━━━━\u001b[0m\u001b[37m\u001b[0m \u001b[1m1s\u001b[0m 3ms/step - loss: 12212485120.0000 - r2_score: -4.7377 - val_loss: 12553135104.0000 - val_r2_score: -4.9600\n",
            "Epoch 82/100\n",
            "\u001b[1m250/250\u001b[0m \u001b[32m━━━━━━━━━━━━━━━━━━━━\u001b[0m\u001b[37m\u001b[0m \u001b[1m1s\u001b[0m 3ms/step - loss: 12476729344.0000 - r2_score: -4.7638 - val_loss: 12487385088.0000 - val_r2_score: -4.9287\n",
            "Epoch 83/100\n",
            "\u001b[1m250/250\u001b[0m \u001b[32m━━━━━━━━━━━━━━━━━━━━\u001b[0m\u001b[37m\u001b[0m \u001b[1m2s\u001b[0m 6ms/step - loss: 12176900096.0000 - r2_score: -4.7958 - val_loss: 12421226496.0000 - val_r2_score: -4.8973\n",
            "Epoch 84/100\n",
            "\u001b[1m250/250\u001b[0m \u001b[32m━━━━━━━━━━━━━━━━━━━━\u001b[0m\u001b[37m\u001b[0m \u001b[1m2s\u001b[0m 3ms/step - loss: 12091312128.0000 - r2_score: -4.6422 - val_loss: 12354592768.0000 - val_r2_score: -4.8657\n",
            "Epoch 85/100\n",
            "\u001b[1m250/250\u001b[0m \u001b[32m━━━━━━━━━━━━━━━━━━━━\u001b[0m\u001b[37m\u001b[0m \u001b[1m1s\u001b[0m 3ms/step - loss: 12136740864.0000 - r2_score: -4.7354 - val_loss: 12287423488.0000 - val_r2_score: -4.8338\n",
            "Epoch 86/100\n",
            "\u001b[1m250/250\u001b[0m \u001b[32m━━━━━━━━━━━━━━━━━━━━\u001b[0m\u001b[37m\u001b[0m \u001b[1m1s\u001b[0m 3ms/step - loss: 11941218304.0000 - r2_score: -4.7538 - val_loss: 12219799552.0000 - val_r2_score: -4.8017\n",
            "Epoch 87/100\n",
            "\u001b[1m250/250\u001b[0m \u001b[32m━━━━━━━━━━━━━━━━━━━━\u001b[0m\u001b[37m\u001b[0m \u001b[1m1s\u001b[0m 3ms/step - loss: 11899839488.0000 - r2_score: -4.6103 - val_loss: 12151733248.0000 - val_r2_score: -4.7694\n",
            "Epoch 88/100\n",
            "\u001b[1m250/250\u001b[0m \u001b[32m━━━━━━━━━━━━━━━━━━━━\u001b[0m\u001b[37m\u001b[0m \u001b[1m1s\u001b[0m 3ms/step - loss: 12006325248.0000 - r2_score: -4.6451 - val_loss: 12083183616.0000 - val_r2_score: -4.7368\n",
            "Epoch 89/100\n",
            "\u001b[1m250/250\u001b[0m \u001b[32m━━━━━━━━━━━━━━━━━━━━\u001b[0m\u001b[37m\u001b[0m \u001b[1m1s\u001b[0m 3ms/step - loss: 11846232064.0000 - r2_score: -4.5350 - val_loss: 12014076928.0000 - val_r2_score: -4.7040\n",
            "Epoch 90/100\n",
            "\u001b[1m250/250\u001b[0m \u001b[32m━━━━━━━━━━━━━━━━━━━━\u001b[0m\u001b[37m\u001b[0m \u001b[1m1s\u001b[0m 3ms/step - loss: 11821277184.0000 - r2_score: -4.7211 - val_loss: 11944706048.0000 - val_r2_score: -4.6711\n",
            "Epoch 91/100\n",
            "\u001b[1m250/250\u001b[0m \u001b[32m━━━━━━━━━━━━━━━━━━━━\u001b[0m\u001b[37m\u001b[0m \u001b[1m1s\u001b[0m 3ms/step - loss: 11641257984.0000 - r2_score: -4.4209 - val_loss: 11875011584.0000 - val_r2_score: -4.6380\n",
            "Epoch 92/100\n",
            "\u001b[1m250/250\u001b[0m \u001b[32m━━━━━━━━━━━━━━━━━━━━\u001b[0m\u001b[37m\u001b[0m \u001b[1m2s\u001b[0m 5ms/step - loss: 11654308864.0000 - r2_score: -4.3932 - val_loss: 11804683264.0000 - val_r2_score: -4.6046\n",
            "Epoch 93/100\n",
            "\u001b[1m250/250\u001b[0m \u001b[32m━━━━━━━━━━━━━━━━━━━━\u001b[0m\u001b[37m\u001b[0m \u001b[1m1s\u001b[0m 5ms/step - loss: 11641684992.0000 - r2_score: -4.5016 - val_loss: 11734032384.0000 - val_r2_score: -4.5711\n",
            "Epoch 94/100\n",
            "\u001b[1m250/250\u001b[0m \u001b[32m━━━━━━━━━━━━━━━━━━━━\u001b[0m\u001b[37m\u001b[0m \u001b[1m1s\u001b[0m 3ms/step - loss: 11644455936.0000 - r2_score: -4.4321 - val_loss: 11662850048.0000 - val_r2_score: -4.5373\n",
            "Epoch 95/100\n",
            "\u001b[1m250/250\u001b[0m \u001b[32m━━━━━━━━━━━━━━━━━━━━\u001b[0m\u001b[37m\u001b[0m \u001b[1m1s\u001b[0m 3ms/step - loss: 11360862208.0000 - r2_score: -4.4390 - val_loss: 11591279616.0000 - val_r2_score: -4.5033\n",
            "Epoch 96/100\n",
            "\u001b[1m250/250\u001b[0m \u001b[32m━━━━━━━━━━━━━━━━━━━━\u001b[0m\u001b[37m\u001b[0m \u001b[1m1s\u001b[0m 3ms/step - loss: 11395478528.0000 - r2_score: -4.4278 - val_loss: 11519347712.0000 - val_r2_score: -4.4691\n",
            "Epoch 97/100\n",
            "\u001b[1m250/250\u001b[0m \u001b[32m━━━━━━━━━━━━━━━━━━━━\u001b[0m\u001b[37m\u001b[0m \u001b[1m1s\u001b[0m 4ms/step - loss: 11232976896.0000 - r2_score: -4.2873 - val_loss: 11446927360.0000 - val_r2_score: -4.4348\n",
            "Epoch 98/100\n",
            "\u001b[1m250/250\u001b[0m \u001b[32m━━━━━━━━━━━━━━━━━━━━\u001b[0m\u001b[37m\u001b[0m \u001b[1m1s\u001b[0m 3ms/step - loss: 11246218240.0000 - r2_score: -4.3062 - val_loss: 11374160896.0000 - val_r2_score: -4.4002\n",
            "Epoch 99/100\n",
            "\u001b[1m250/250\u001b[0m \u001b[32m━━━━━━━━━━━━━━━━━━━━\u001b[0m\u001b[37m\u001b[0m \u001b[1m2s\u001b[0m 5ms/step - loss: 10991792128.0000 - r2_score: -4.2677 - val_loss: 11300912128.0000 - val_r2_score: -4.3654\n",
            "Epoch 100/100\n",
            "\u001b[1m250/250\u001b[0m \u001b[32m━━━━━━━━━━━━━━━━━━━━\u001b[0m\u001b[37m\u001b[0m \u001b[1m2s\u001b[0m 7ms/step - loss: 11098280960.0000 - r2_score: -4.1992 - val_loss: 11227471872.0000 - val_r2_score: -4.3306\n"
          ]
        }
      ]
    },
    {
      "cell_type": "code",
      "source": [
        "#Model Evaluation\n",
        "loss_base, r2_base = model_base.evaluate(X_test, y_test)\n",
        "print(f' Loss(MSE): {loss_base}')\n",
        "print(f' R2 Score: {r2_base}')"
      ],
      "metadata": {
        "colab": {
          "base_uri": "https://localhost:8080/"
        },
        "id": "KTMtgDTRZ-ku",
        "outputId": "48104c49-abf4-439c-a3ab-2817b1631db1"
      },
      "execution_count": 51,
      "outputs": [
        {
          "output_type": "stream",
          "name": "stdout",
          "text": [
            "\u001b[1m63/63\u001b[0m \u001b[32m━━━━━━━━━━━━━━━━━━━━\u001b[0m\u001b[37m\u001b[0m \u001b[1m0s\u001b[0m 2ms/step - loss: 11117946880.0000 - r2_score: -4.3596\n",
            " Loss(MSE): 11227471872.0\n",
            " R2 Score: -4.330565452575684\n"
          ]
        }
      ]
    },
    {
      "cell_type": "markdown",
      "source": [
        "**Observations:**\n",
        "\n",
        "* Negative value of R2 score means that if we would have given\n",
        "average value as predicted value for every data point,\n",
        "it would have been better than creating the model.\n",
        "\n",
        "**Building an Optimal Model**"
      ],
      "metadata": {
        "id": "U8C2mFP0axy1"
      }
    },
    {
      "cell_type": "code",
      "source": [
        "#Optimized ANN model with Dropout\n",
        "\n",
        "from tensorflow.keras.layers import Dropout\n",
        "\n",
        "#Optimized model with Dropouts\n",
        "\n",
        "model_opt = Sequential([\n",
        "    Dense(128, input_dim = X_train.shape[1], activation = 'relu'),\n",
        "    Dropout(0.3),\n",
        "    Dense(64, activation = 'relu'),\n",
        "    Dropout(0.2),\n",
        "    Dense(32, activation = 'relu'),\n",
        "    Dropout(0.1),\n",
        "    Dense(1)\n",
        "])"
      ],
      "metadata": {
        "id": "fwm7yFyKZ-qL"
      },
      "execution_count": 52,
      "outputs": []
    },
    {
      "cell_type": "code",
      "source": [
        "#Compiling the model\n",
        "model_opt.compile(optimizer = tf.keras.optimizers.Adam(learning_rate = 0.001),\n",
        "                                                       loss = 'mse', metrics = ['r2_score'])"
      ],
      "metadata": {
        "id": "RJ3LNZsfZ-to"
      },
      "execution_count": 53,
      "outputs": []
    },
    {
      "cell_type": "code",
      "source": [
        "#Early stopping\n",
        "early_stop = EarlyStopping(monitor = 'val_loss', patience = 5, restore_best_weights =True)"
      ],
      "metadata": {
        "id": "UGCI4LUhahg2"
      },
      "execution_count": 54,
      "outputs": []
    },
    {
      "cell_type": "code",
      "source": [
        "#Training the model\n",
        "history_opt = model_opt.fit(X_train, y_train, validation_data = (X_test, y_test),\n",
        "                             epochs = 100, batch_size = 32, callbacks = [early_stop], verbose = 1)"
      ],
      "metadata": {
        "colab": {
          "base_uri": "https://localhost:8080/"
        },
        "id": "HvbgHS0mahOy",
        "outputId": "ea87c982-af63-4ae2-fc05-d60a92ed4419"
      },
      "execution_count": 55,
      "outputs": [
        {
          "output_type": "stream",
          "name": "stdout",
          "text": [
            "Epoch 1/100\n",
            "\u001b[1m250/250\u001b[0m \u001b[32m━━━━━━━━━━━━━━━━━━━━\u001b[0m\u001b[37m\u001b[0m \u001b[1m3s\u001b[0m 4ms/step - loss: 14929389568.0000 - r2_score: -6.0458 - val_loss: 8072139776.0000 - val_r2_score: -2.8325\n",
            "Epoch 2/100\n",
            "\u001b[1m250/250\u001b[0m \u001b[32m━━━━━━━━━━━━━━━━━━━━\u001b[0m\u001b[37m\u001b[0m \u001b[1m1s\u001b[0m 3ms/step - loss: 3713037824.0000 - r2_score: -0.7494 - val_loss: 437399680.0000 - val_r2_score: 0.7923\n",
            "Epoch 3/100\n",
            "\u001b[1m250/250\u001b[0m \u001b[32m━━━━━━━━━━━━━━━━━━━━\u001b[0m\u001b[37m\u001b[0m \u001b[1m1s\u001b[0m 3ms/step - loss: 597396800.0000 - r2_score: 0.7142 - val_loss: 328817760.0000 - val_r2_score: 0.8439\n",
            "Epoch 4/100\n",
            "\u001b[1m250/250\u001b[0m \u001b[32m━━━━━━━━━━━━━━━━━━━━\u001b[0m\u001b[37m\u001b[0m \u001b[1m1s\u001b[0m 3ms/step - loss: 510604960.0000 - r2_score: 0.7605 - val_loss: 268762464.0000 - val_r2_score: 0.8724\n",
            "Epoch 5/100\n",
            "\u001b[1m250/250\u001b[0m \u001b[32m━━━━━━━━━━━━━━━━━━━━\u001b[0m\u001b[37m\u001b[0m \u001b[1m1s\u001b[0m 3ms/step - loss: 444748896.0000 - r2_score: 0.7889 - val_loss: 219066096.0000 - val_r2_score: 0.8960\n",
            "Epoch 6/100\n",
            "\u001b[1m250/250\u001b[0m \u001b[32m━━━━━━━━━━━━━━━━━━━━\u001b[0m\u001b[37m\u001b[0m \u001b[1m2s\u001b[0m 5ms/step - loss: 407398656.0000 - r2_score: 0.8086 - val_loss: 186328368.0000 - val_r2_score: 0.9115\n",
            "Epoch 7/100\n",
            "\u001b[1m250/250\u001b[0m \u001b[32m━━━━━━━━━━━━━━━━━━━━\u001b[0m\u001b[37m\u001b[0m \u001b[1m1s\u001b[0m 5ms/step - loss: 378762624.0000 - r2_score: 0.8235 - val_loss: 160236048.0000 - val_r2_score: 0.9239\n",
            "Epoch 8/100\n",
            "\u001b[1m250/250\u001b[0m \u001b[32m━━━━━━━━━━━━━━━━━━━━\u001b[0m\u001b[37m\u001b[0m \u001b[1m2s\u001b[0m 4ms/step - loss: 363548608.0000 - r2_score: 0.8327 - val_loss: 138748944.0000 - val_r2_score: 0.9341\n",
            "Epoch 9/100\n",
            "\u001b[1m250/250\u001b[0m \u001b[32m━━━━━━━━━━━━━━━━━━━━\u001b[0m\u001b[37m\u001b[0m \u001b[1m1s\u001b[0m 4ms/step - loss: 347500320.0000 - r2_score: 0.8322 - val_loss: 122150104.0000 - val_r2_score: 0.9420\n",
            "Epoch 10/100\n",
            "\u001b[1m250/250\u001b[0m \u001b[32m━━━━━━━━━━━━━━━━━━━━\u001b[0m\u001b[37m\u001b[0m \u001b[1m1s\u001b[0m 3ms/step - loss: 325120576.0000 - r2_score: 0.8461 - val_loss: 107958744.0000 - val_r2_score: 0.9487\n",
            "Epoch 11/100\n",
            "\u001b[1m250/250\u001b[0m \u001b[32m━━━━━━━━━━━━━━━━━━━━\u001b[0m\u001b[37m\u001b[0m \u001b[1m1s\u001b[0m 3ms/step - loss: 326991360.0000 - r2_score: 0.8442 - val_loss: 97574840.0000 - val_r2_score: 0.9537\n",
            "Epoch 12/100\n",
            "\u001b[1m250/250\u001b[0m \u001b[32m━━━━━━━━━━━━━━━━━━━━\u001b[0m\u001b[37m\u001b[0m \u001b[1m1s\u001b[0m 3ms/step - loss: 311558880.0000 - r2_score: 0.8551 - val_loss: 83616832.0000 - val_r2_score: 0.9603\n",
            "Epoch 13/100\n",
            "\u001b[1m250/250\u001b[0m \u001b[32m━━━━━━━━━━━━━━━━━━━━\u001b[0m\u001b[37m\u001b[0m \u001b[1m1s\u001b[0m 3ms/step - loss: 302012832.0000 - r2_score: 0.8589 - val_loss: 73849256.0000 - val_r2_score: 0.9649\n",
            "Epoch 14/100\n",
            "\u001b[1m250/250\u001b[0m \u001b[32m━━━━━━━━━━━━━━━━━━━━\u001b[0m\u001b[37m\u001b[0m \u001b[1m1s\u001b[0m 3ms/step - loss: 284605088.0000 - r2_score: 0.8652 - val_loss: 66292388.0000 - val_r2_score: 0.9685\n",
            "Epoch 15/100\n",
            "\u001b[1m250/250\u001b[0m \u001b[32m━━━━━━━━━━━━━━━━━━━━\u001b[0m\u001b[37m\u001b[0m \u001b[1m1s\u001b[0m 3ms/step - loss: 286549696.0000 - r2_score: 0.8658 - val_loss: 61859044.0000 - val_r2_score: 0.9706\n",
            "Epoch 16/100\n",
            "\u001b[1m250/250\u001b[0m \u001b[32m━━━━━━━━━━━━━━━━━━━━\u001b[0m\u001b[37m\u001b[0m \u001b[1m1s\u001b[0m 5ms/step - loss: 269518496.0000 - r2_score: 0.8742 - val_loss: 55277556.0000 - val_r2_score: 0.9738\n",
            "Epoch 17/100\n",
            "\u001b[1m250/250\u001b[0m \u001b[32m━━━━━━━━━━━━━━━━━━━━\u001b[0m\u001b[37m\u001b[0m \u001b[1m2s\u001b[0m 3ms/step - loss: 271801760.0000 - r2_score: 0.8716 - val_loss: 48200184.0000 - val_r2_score: 0.9771\n",
            "Epoch 18/100\n",
            "\u001b[1m250/250\u001b[0m \u001b[32m━━━━━━━━━━━━━━━━━━━━\u001b[0m\u001b[37m\u001b[0m \u001b[1m1s\u001b[0m 3ms/step - loss: 250565824.0000 - r2_score: 0.8841 - val_loss: 47346932.0000 - val_r2_score: 0.9775\n",
            "Epoch 19/100\n",
            "\u001b[1m250/250\u001b[0m \u001b[32m━━━━━━━━━━━━━━━━━━━━\u001b[0m\u001b[37m\u001b[0m \u001b[1m1s\u001b[0m 3ms/step - loss: 256805488.0000 - r2_score: 0.8801 - val_loss: 41486756.0000 - val_r2_score: 0.9803\n",
            "Epoch 20/100\n",
            "\u001b[1m250/250\u001b[0m \u001b[32m━━━━━━━━━━━━━━━━━━━━\u001b[0m\u001b[37m\u001b[0m \u001b[1m1s\u001b[0m 3ms/step - loss: 235483792.0000 - r2_score: 0.8887 - val_loss: 38474004.0000 - val_r2_score: 0.9817\n",
            "Epoch 21/100\n",
            "\u001b[1m250/250\u001b[0m \u001b[32m━━━━━━━━━━━━━━━━━━━━\u001b[0m\u001b[37m\u001b[0m \u001b[1m1s\u001b[0m 3ms/step - loss: 256318608.0000 - r2_score: 0.8773 - val_loss: 32690860.0000 - val_r2_score: 0.9845\n",
            "Epoch 22/100\n",
            "\u001b[1m250/250\u001b[0m \u001b[32m━━━━━━━━━━━━━━━━━━━━\u001b[0m\u001b[37m\u001b[0m \u001b[1m2s\u001b[0m 6ms/step - loss: 243745936.0000 - r2_score: 0.8860 - val_loss: 31575854.0000 - val_r2_score: 0.9850\n",
            "Epoch 23/100\n",
            "\u001b[1m250/250\u001b[0m \u001b[32m━━━━━━━━━━━━━━━━━━━━\u001b[0m\u001b[37m\u001b[0m \u001b[1m2s\u001b[0m 3ms/step - loss: 231197488.0000 - r2_score: 0.8934 - val_loss: 31133812.0000 - val_r2_score: 0.9852\n",
            "Epoch 24/100\n",
            "\u001b[1m250/250\u001b[0m \u001b[32m━━━━━━━━━━━━━━━━━━━━\u001b[0m\u001b[37m\u001b[0m \u001b[1m1s\u001b[0m 4ms/step - loss: 239453136.0000 - r2_score: 0.8881 - val_loss: 31448096.0000 - val_r2_score: 0.9851\n",
            "Epoch 25/100\n",
            "\u001b[1m250/250\u001b[0m \u001b[32m━━━━━━━━━━━━━━━━━━━━\u001b[0m\u001b[37m\u001b[0m \u001b[1m2s\u001b[0m 5ms/step - loss: 233672560.0000 - r2_score: 0.8906 - val_loss: 30096466.0000 - val_r2_score: 0.9857\n",
            "Epoch 26/100\n",
            "\u001b[1m250/250\u001b[0m \u001b[32m━━━━━━━━━━━━━━━━━━━━\u001b[0m\u001b[37m\u001b[0m \u001b[1m1s\u001b[0m 4ms/step - loss: 237375984.0000 - r2_score: 0.8890 - val_loss: 29414100.0000 - val_r2_score: 0.9860\n",
            "Epoch 27/100\n",
            "\u001b[1m250/250\u001b[0m \u001b[32m━━━━━━━━━━━━━━━━━━━━\u001b[0m\u001b[37m\u001b[0m \u001b[1m1s\u001b[0m 3ms/step - loss: 244883376.0000 - r2_score: 0.8847 - val_loss: 26030316.0000 - val_r2_score: 0.9876\n",
            "Epoch 28/100\n",
            "\u001b[1m250/250\u001b[0m \u001b[32m━━━━━━━━━━━━━━━━━━━━\u001b[0m\u001b[37m\u001b[0m \u001b[1m1s\u001b[0m 3ms/step - loss: 240668400.0000 - r2_score: 0.8843 - val_loss: 30298718.0000 - val_r2_score: 0.9856\n",
            "Epoch 29/100\n",
            "\u001b[1m250/250\u001b[0m \u001b[32m━━━━━━━━━━━━━━━━━━━━\u001b[0m\u001b[37m\u001b[0m \u001b[1m1s\u001b[0m 4ms/step - loss: 230034720.0000 - r2_score: 0.8908 - val_loss: 21448228.0000 - val_r2_score: 0.9898\n",
            "Epoch 30/100\n",
            "\u001b[1m250/250\u001b[0m \u001b[32m━━━━━━━━━━━━━━━━━━━━\u001b[0m\u001b[37m\u001b[0m \u001b[1m2s\u001b[0m 5ms/step - loss: 242936320.0000 - r2_score: 0.8847 - val_loss: 23903748.0000 - val_r2_score: 0.9887\n",
            "Epoch 31/100\n",
            "\u001b[1m250/250\u001b[0m \u001b[32m━━━━━━━━━━━━━━━━━━━━\u001b[0m\u001b[37m\u001b[0m \u001b[1m2s\u001b[0m 3ms/step - loss: 236135952.0000 - r2_score: 0.8888 - val_loss: 23529546.0000 - val_r2_score: 0.9888\n",
            "Epoch 32/100\n",
            "\u001b[1m250/250\u001b[0m \u001b[32m━━━━━━━━━━━━━━━━━━━━\u001b[0m\u001b[37m\u001b[0m \u001b[1m1s\u001b[0m 3ms/step - loss: 230518512.0000 - r2_score: 0.8932 - val_loss: 27814248.0000 - val_r2_score: 0.9868\n",
            "Epoch 33/100\n",
            "\u001b[1m250/250\u001b[0m \u001b[32m━━━━━━━━━━━━━━━━━━━━\u001b[0m\u001b[37m\u001b[0m \u001b[1m1s\u001b[0m 3ms/step - loss: 235955008.0000 - r2_score: 0.8882 - val_loss: 20758890.0000 - val_r2_score: 0.9901\n",
            "Epoch 34/100\n",
            "\u001b[1m250/250\u001b[0m \u001b[32m━━━━━━━━━━━━━━━━━━━━\u001b[0m\u001b[37m\u001b[0m \u001b[1m1s\u001b[0m 5ms/step - loss: 228191008.0000 - r2_score: 0.8932 - val_loss: 24731104.0000 - val_r2_score: 0.9883\n",
            "Epoch 35/100\n",
            "\u001b[1m250/250\u001b[0m \u001b[32m━━━━━━━━━━━━━━━━━━━━\u001b[0m\u001b[37m\u001b[0m \u001b[1m2s\u001b[0m 4ms/step - loss: 241305008.0000 - r2_score: 0.8866 - val_loss: 27059458.0000 - val_r2_score: 0.9872\n",
            "Epoch 36/100\n",
            "\u001b[1m250/250\u001b[0m \u001b[32m━━━━━━━━━━━━━━━━━━━━\u001b[0m\u001b[37m\u001b[0m \u001b[1m1s\u001b[0m 4ms/step - loss: 243334496.0000 - r2_score: 0.8861 - val_loss: 19397764.0000 - val_r2_score: 0.9908\n",
            "Epoch 37/100\n",
            "\u001b[1m250/250\u001b[0m \u001b[32m━━━━━━━━━━━━━━━━━━━━\u001b[0m\u001b[37m\u001b[0m \u001b[1m1s\u001b[0m 3ms/step - loss: 232869280.0000 - r2_score: 0.8926 - val_loss: 23713308.0000 - val_r2_score: 0.9887\n",
            "Epoch 38/100\n",
            "\u001b[1m250/250\u001b[0m \u001b[32m━━━━━━━━━━━━━━━━━━━━\u001b[0m\u001b[37m\u001b[0m \u001b[1m1s\u001b[0m 3ms/step - loss: 227244480.0000 - r2_score: 0.8936 - val_loss: 20470610.0000 - val_r2_score: 0.9903\n",
            "Epoch 39/100\n",
            "\u001b[1m250/250\u001b[0m \u001b[32m━━━━━━━━━━━━━━━━━━━━\u001b[0m\u001b[37m\u001b[0m \u001b[1m1s\u001b[0m 3ms/step - loss: 232590320.0000 - r2_score: 0.8892 - val_loss: 20074450.0000 - val_r2_score: 0.9905\n",
            "Epoch 40/100\n",
            "\u001b[1m250/250\u001b[0m \u001b[32m━━━━━━━━━━━━━━━━━━━━\u001b[0m\u001b[37m\u001b[0m \u001b[1m1s\u001b[0m 4ms/step - loss: 231918016.0000 - r2_score: 0.8903 - val_loss: 18330256.0000 - val_r2_score: 0.9913\n",
            "Epoch 41/100\n",
            "\u001b[1m250/250\u001b[0m \u001b[32m━━━━━━━━━━━━━━━━━━━━\u001b[0m\u001b[37m\u001b[0m \u001b[1m1s\u001b[0m 3ms/step - loss: 232826080.0000 - r2_score: 0.8913 - val_loss: 21714722.0000 - val_r2_score: 0.9897\n",
            "Epoch 42/100\n",
            "\u001b[1m250/250\u001b[0m \u001b[32m━━━━━━━━━━━━━━━━━━━━\u001b[0m\u001b[37m\u001b[0m \u001b[1m2s\u001b[0m 6ms/step - loss: 229726736.0000 - r2_score: 0.8917 - val_loss: 18374398.0000 - val_r2_score: 0.9913\n",
            "Epoch 43/100\n",
            "\u001b[1m250/250\u001b[0m \u001b[32m━━━━━━━━━━━━━━━━━━━━\u001b[0m\u001b[37m\u001b[0m \u001b[1m2s\u001b[0m 9ms/step - loss: 231594432.0000 - r2_score: 0.8908 - val_loss: 23572204.0000 - val_r2_score: 0.9888\n",
            "Epoch 44/100\n",
            "\u001b[1m250/250\u001b[0m \u001b[32m━━━━━━━━━━━━━━━━━━━━\u001b[0m\u001b[37m\u001b[0m \u001b[1m1s\u001b[0m 4ms/step - loss: 229565360.0000 - r2_score: 0.8917 - val_loss: 19253646.0000 - val_r2_score: 0.9909\n",
            "Epoch 45/100\n",
            "\u001b[1m250/250\u001b[0m \u001b[32m━━━━━━━━━━━━━━━━━━━━\u001b[0m\u001b[37m\u001b[0m \u001b[1m1s\u001b[0m 3ms/step - loss: 239570096.0000 - r2_score: 0.8868 - val_loss: 21579940.0000 - val_r2_score: 0.9898\n"
          ]
        }
      ]
    },
    {
      "cell_type": "code",
      "source": [
        "#Evaluating the model on training data\n",
        "train_loss_opt, train_r2_opt = model_opt.evaluate(X_train, y_train)\n",
        "print(f'Train Loss(MSE): {train_loss_opt}')\n",
        "print(f'Train R2 Score: {train_r2_opt}')"
      ],
      "metadata": {
        "colab": {
          "base_uri": "https://localhost:8080/"
        },
        "id": "C6snlkOrahLS",
        "outputId": "e4f35ac7-ec83-4f90-de49-ed80200baaa8"
      },
      "execution_count": 56,
      "outputs": [
        {
          "output_type": "stream",
          "name": "stdout",
          "text": [
            "\u001b[1m250/250\u001b[0m \u001b[32m━━━━━━━━━━━━━━━━━━━━\u001b[0m\u001b[37m\u001b[0m \u001b[1m1s\u001b[0m 3ms/step - loss: 19171482.0000 - r2_score: 0.9908\n",
            "Train Loss(MSE): 19198092.0\n",
            "Train R2 Score: 0.9909672737121582\n"
          ]
        }
      ]
    },
    {
      "cell_type": "code",
      "source": [
        "#Evaluating the model on test data\n",
        "test_loss_opt, test_r2_opt = model_opt.evaluate(X_test, y_test)\n",
        "print(f'Test Loss(MSE): {test_loss_opt}')\n",
        "print(f'Test R2 Score: {test_r2_opt}')"
      ],
      "metadata": {
        "colab": {
          "base_uri": "https://localhost:8080/"
        },
        "id": "1EZN-Slhbezu",
        "outputId": "f1104004-756e-4855-85be-0505e725c697"
      },
      "execution_count": 57,
      "outputs": [
        {
          "output_type": "stream",
          "name": "stdout",
          "text": [
            "\u001b[1m63/63\u001b[0m \u001b[32m━━━━━━━━━━━━━━━━━━━━\u001b[0m\u001b[37m\u001b[0m \u001b[1m0s\u001b[0m 4ms/step - loss: 18276678.0000 - r2_score: 0.9912\n",
            "Test Loss(MSE): 18330256.0\n",
            "Test R2 Score: 0.99129718542099\n"
          ]
        }
      ]
    },
    {
      "cell_type": "markdown",
      "source": [
        "#Comparing Baseline and optimal model learning curves"
      ],
      "metadata": {
        "id": "J1EWW1dhbFKv"
      }
    },
    {
      "cell_type": "markdown",
      "metadata": {
        "id": "acb1c828"
      },
      "source": [
        "**Observations from Optimized Model Evaluation:**\n",
        "\n",
        "*   The optimized model achieved a low Mean Squared Error (MSE) on both the training (19.2M) and test (18.3M) datasets, indicating that the model's predictions are close to the actual salaries.\n",
        "*   The R2 score for both the training (0.991) and test (0.991) datasets are very close to 1. This suggests that the model explains a very high percentage of the variance in the salary data. An R2 score of 0.991 means that approximately 99.1% of the variability in salary can be explained by the features in the model.\n",
        "*   The performance on the training and test sets are very similar, which indicates that the model is not significantly overfitting to the training data.\n",
        "*   Compared to the baseline model (which had a negative R2 score), the optimized model shows a dramatic improvement in performance, demonstrating the effectiveness of the added layers, dropout, and optimized learning rate."
      ]
    },
    {
      "cell_type": "markdown",
      "source": [
        "#Comparing Learning curves"
      ],
      "metadata": {
        "id": "qYTF4VsxcE7E"
      }
    },
    {
      "cell_type": "code",
      "source": [
        "#Compare Learning curves\n",
        "plt.plot(history_base.history['val_loss'], label ='Baseline Val Loss')\n",
        "plt.plot(history_opt.history['val_loss'], label ='Optimized Val Loss')\n",
        "plt.xlabel('Epochs')\n",
        "plt.ylabel('Validation Loss')\n",
        "plt.title('Model Comparision')\n",
        "plt.legend()\n",
        "plt.show()"
      ],
      "metadata": {
        "colab": {
          "base_uri": "https://localhost:8080/",
          "height": 472
        },
        "id": "MkW03y76bGhZ",
        "outputId": "16b530e0-0534-41c9-b61f-6ec5c17749c6"
      },
      "execution_count": 58,
      "outputs": [
        {
          "output_type": "display_data",
          "data": {
            "text/plain": [
              "<Figure size 640x480 with 1 Axes>"
            ],
            "image/png": "[encoded data removed]"
          },
          "metadata": {}
        }
      ]
    },
    {
      "cell_type": "markdown",
      "source": [
        "#Predictions on test set"
      ],
      "metadata": {
        "id": "ZBZkhO6jcem7"
      }
    },
    {
      "cell_type": "code",
      "source": [
        "#Predictions\n",
        "#Example from test set\n",
        "sample = X_test[2].reshape(1, -1)\n",
        "predicted_Salary = model_opt.predict(sample)\n",
        "print(f'Predicted Salary: {predicted_Salary}')"
      ],
      "metadata": {
        "colab": {
          "base_uri": "https://localhost:8080/"
        },
        "id": "lfjXpfBObHIs",
        "outputId": "0637173b-1bc6-4092-bdd6-6c07a925c9af"
      },
      "execution_count": 61,
      "outputs": [
        {
          "output_type": "stream",
          "name": "stdout",
          "text": [
            "\u001b[1m1/1\u001b[0m \u001b[32m━━━━━━━━━━━━━━━━━━━━\u001b[0m\u001b[37m\u001b[0m \u001b[1m0s\u001b[0m 44ms/step\n",
            "Predicted Salary: [[103657.99]]\n"
          ]
        }
      ]
    },
    {
      "cell_type": "code",
      "source": [
        "df.columns"
      ],
      "metadata": {
        "colab": {
          "base_uri": "https://localhost:8080/"
        },
        "id": "spoqAXAucrpT",
        "outputId": "96e90840-0933-4053-9d86-e2927492d992"
      },
      "execution_count": 62,
      "outputs": [
        {
          "output_type": "execute_result",
          "data": {
            "text/plain": [
              "Index(['Employee_ID', 'Name', 'Age', 'Gender', 'Department', 'Job_Title',\n",
              "       'Experience_Years', 'Education_Level', 'Location', 'Salary'],\n",
              "      dtype='object')"
            ]
          },
          "metadata": {},
          "execution_count": 62
        }
      ]
    },
    {
      "cell_type": "code",
      "source": [
        "df.head()"
      ],
      "metadata": {
        "colab": {
          "base_uri": "https://localhost:8080/",
          "height": 313
        },
        "id": "N6mjS78WdTXG",
        "outputId": "fbef8cac-7a42-4f0c-b660-957c2e75cabf"
      },
      "execution_count": 63,
      "outputs": [
        {
          "output_type": "execute_result",
          "data": {
            "text/plain": [
              "   Employee_ID            Name  Age  Gender   Department  Job_Title  \\\n",
              "0            1    Merle Ingram   24  Female  Engineering   Engineer   \n",
              "1            2      John Mayes   56    Male        Sales  Executive   \n",
              "2            3    Carlos Wille   21    Male  Engineering     Intern   \n",
              "3            4  Michael Bryant   30    Male      Finance    Analyst   \n",
              "4            5   Paula Douglas   25  Female           HR    Analyst   \n",
              "\n",
              "   Experience_Years Education_Level  Location  Salary  \n",
              "0                 1          Master    Austin   90000  \n",
              "1                33          Master   Seattle  195000  \n",
              "2                 1        Bachelor  New York   35000  \n",
              "3                 9        Bachelor  New York   75000  \n",
              "4                 2          Master   Seattle   70000  "
            ],
            "text/html": [
              "\n",
              "  <div id=\"df-130d06e9-b4f3-4d1a-bbea-79ca955b4751\" class=\"colab-df-container\">\n",
              "    <div>\n",
              "<style scoped>\n",
              "    .dataframe tbody tr th:only-of-type {\n",
              "        vertical-align: middle;\n",
              "    }\n",
              "\n",
              "    .dataframe tbody tr th {\n",
              "        vertical-align: top;\n",
              "    }\n",
              "\n",
              "    .dataframe thead th {\n",
              "        text-align: right;\n",
              "    }\n",
              "</style>\n",
              "<table border=\"1\" class=\"dataframe\">\n",
              "  <thead>\n",
              "    <tr style=\"text-align: right;\">\n",
              "      <th></th>\n",
              "      <th>Employee_ID</th>\n",
              "      <th>Name</th>\n",
              "      <th>Age</th>\n",
              "      <th>Gender</th>\n",
              "      <th>Department</th>\n",
              "      <th>Job_Title</th>\n",
              "      <th>Experience_Years</th>\n",
              "      <th>Education_Level</th>\n",
              "      <th>Location</th>\n",
              "      <th>Salary</th>\n",
              "    </tr>\n",
              "  </thead>\n",
              "  <tbody>\n",
              "    <tr>\n",
              "      <th>0</th>\n",
              "      <td>1</td>\n",
              "      <td>Merle Ingram</td>\n",
              "      <td>24</td>\n",
              "      <td>Female</td>\n",
              "      <td>Engineering</td>\n",
              "      <td>Engineer</td>\n",
              "      <td>1</td>\n",
              "      <td>Master</td>\n",
              "      <td>Austin</td>\n",
              "      <td>90000</td>\n",
              "    </tr>\n",
              "    <tr>\n",
              "      <th>1</th>\n",
              "      <td>2</td>\n",
              "      <td>John Mayes</td>\n",
              "      <td>56</td>\n",
              "      <td>Male</td>\n",
              "      <td>Sales</td>\n",
              "      <td>Executive</td>\n",
              "      <td>33</td>\n",
              "      <td>Master</td>\n",
              "      <td>Seattle</td>\n",
              "      <td>195000</td>\n",
              "    </tr>\n",
              "    <tr>\n",
              "      <th>2</th>\n",
              "      <td>3</td>\n",
              "      <td>Carlos Wille</td>\n",
              "      <td>21</td>\n",
              "      <td>Male</td>\n",
              "      <td>Engineering</td>\n",
              "      <td>Intern</td>\n",
              "      <td>1</td>\n",
              "      <td>Bachelor</td>\n",
              "      <td>New York</td>\n",
              "      <td>35000</td>\n",
              "    </tr>\n",
              "    <tr>\n",
              "      <th>3</th>\n",
              "      <td>4</td>\n",
              "      <td>Michael Bryant</td>\n",
              "      <td>30</td>\n",
              "      <td>Male</td>\n",
              "      <td>Finance</td>\n",
              "      <td>Analyst</td>\n",
              "      <td>9</td>\n",
              "      <td>Bachelor</td>\n",
              "      <td>New York</td>\n",
              "      <td>75000</td>\n",
              "    </tr>\n",
              "    <tr>\n",
              "      <th>4</th>\n",
              "      <td>5</td>\n",
              "      <td>Paula Douglas</td>\n",
              "      <td>25</td>\n",
              "      <td>Female</td>\n",
              "      <td>HR</td>\n",
              "      <td>Analyst</td>\n",
              "      <td>2</td>\n",
              "      <td>Master</td>\n",
              "      <td>Seattle</td>\n",
              "      <td>70000</td>\n",
              "    </tr>\n",
              "  </tbody>\n",
              "</table>\n",
              "</div>\n",
              "    <div class=\"colab-df-buttons\">\n",
              "\n",
              "  <div class=\"colab-df-container\">\n",
              "    <button class=\"colab-df-convert\" onclick=\"convertToInteractive('df-130d06e9-b4f3-4d1a-bbea-79ca955b4751')\"\n",
              "            title=\"Convert this dataframe to an interactive table.\"\n",
              "            style=\"display:none;\">\n",
              "\n",
              "  <svg xmlns=\"http://www.w3.org/2000/svg\" height=\"24px\" viewBox=\"0 -960 960 960\">\n",
              "    <path d=\"M120-120v-720h720v720H120Zm60-500h600v-160H180v160Zm220 220h160v-160H400v160Zm0 220h160v-160H400v160ZM180-400h160v-160H180v160Zm440 0h160v-160H620v160ZM180-180h160v-160H180v160Zm440 0h160v-160H620v160Z\"/>\n",
              "  </svg>\n",
              "    </button>\n",
              "\n",
              "  <style>\n",
              "    .colab-df-container {\n",
              "      display:flex;\n",
              "      gap: 12px;\n",
              "    }\n",
              "\n",
              "    .colab-df-convert {\n",
              "      background-color: #E8F0FE;\n",
              "      border: none;\n",
              "      border-radius: 50%;\n",
              "      cursor: pointer;\n",
              "      display: none;\n",
              "      fill: #1967D2;\n",
              "      height: 32px;\n",
              "      padding: 0 0 0 0;\n",
              "      width: 32px;\n",
              "    }\n",
              "\n",
              "    .colab-df-convert:hover {\n",
              "      background-color: #E2EBFA;\n",
              "      box-shadow: 0px 1px 2px rgba(60, 64, 67, 0.3), 0px 1px 3px 1px rgba(60, 64, 67, 0.15);\n",
              "      fill: #174EA6;\n",
              "    }\n",
              "\n",
              "    .colab-df-buttons div {\n",
              "      margin-bottom: 4px;\n",
              "    }\n",
              "\n",
              "    [theme=dark] .colab-df-convert {\n",
              "      background-color: #3B4455;\n",
              "      fill: #D2E3FC;\n",
              "    }\n",
              "\n",
              "    [theme=dark] .colab-df-convert:hover {\n",
              "      background-color: #434B5C;\n",
              "      box-shadow: 0px 1px 3px 1px rgba(0, 0, 0, 0.15);\n",
              "      filter: drop-shadow(0px 1px 2px rgba(0, 0, 0, 0.3));\n",
              "      fill: #FFFFFF;\n",
              "    }\n",
              "  </style>\n",
              "\n",
              "    <script>\n",
              "      const buttonEl =\n",
              "        document.querySelector('#df-130d06e9-b4f3-4d1a-bbea-79ca955b4751 button.colab-df-convert');\n",
              "      buttonEl.style.display =\n",
              "        google.colab.kernel.accessAllowed ? 'block' : 'none';\n",
              "\n",
              "      async function convertToInteractive(key) {\n",
              "        const element = document.querySelector('#df-130d06e9-b4f3-4d1a-bbea-79ca955b4751');\n",
              "        const dataTable =\n",
              "          await google.colab.kernel.invokeFunction('convertToInteractive',\n",
              "                                                    [key], {});\n",
              "        if (!dataTable) return;\n",
              "\n",
              "        const docLinkHtml = 'Like what you see? Visit the ' +\n",
              "          '<a target=\"_blank\" href=https://colab.research.google.com/notebooks/data_table.ipynb>data table notebook</a>'\n",
              "          + ' to learn more about interactive tables.';\n",
              "        element.innerHTML = '';\n",
              "        dataTable['output_type'] = 'display_data';\n",
              "        await google.colab.output.renderOutput(dataTable, element);\n",
              "        const docLink = document.createElement('div');\n",
              "        docLink.innerHTML = docLinkHtml;\n",
              "        element.appendChild(docLink);\n",
              "      }\n",
              "    </script>\n",
              "  </div>\n",
              "\n",
              "\n",
              "    <div id=\"df-d891f5a0-0375-456d-9872-7047e37e12d6\">\n",
              "      <button class=\"colab-df-quickchart\" onclick=\"quickchart('df-d891f5a0-0375-456d-9872-7047e37e12d6')\"\n",
              "                title=\"Suggest charts\"\n",
              "                style=\"display:none;\">\n",
              "\n",
              "<svg xmlns=\"http://www.w3.org/2000/svg\" height=\"24px\"viewBox=\"0 0 24 24\"\n",
              "     width=\"24px\">\n",
              "    <g>\n",
              "        <path d=\"M19 3H5c-1.1 0-2 .9-2 2v14c0 1.1.9 2 2 2h14c1.1 0 2-.9 2-2V5c0-1.1-.9-2-2-2zM9 17H7v-7h2v7zm4 0h-2V7h2v10zm4 0h-2v-4h2v4z\"/>\n",
              "    </g>\n",
              "</svg>\n",
              "      </button>\n",
              "\n",
              "<style>\n",
              "  .colab-df-quickchart {\n",
              "      --bg-color: #E8F0FE;\n",
              "      --fill-color: #1967D2;\n",
              "      --hover-bg-color: #E2EBFA;\n",
              "      --hover-fill-color: #174EA6;\n",
              "      --disabled-fill-color: #AAA;\n",
              "      --disabled-bg-color: #DDD;\n",
              "  }\n",
              "\n",
              "  [theme=dark] .colab-df-quickchart {\n",
              "      --bg-color: #3B4455;\n",
              "      --fill-color: #D2E3FC;\n",
              "      --hover-bg-color: #434B5C;\n",
              "      --hover-fill-color: #FFFFFF;\n",
              "      --disabled-bg-color: #3B4455;\n",
              "      --disabled-fill-color: #666;\n",
              "  }\n",
              "\n",
              "  .colab-df-quickchart {\n",
              "    background-color: var(--bg-color);\n",
              "    border: none;\n",
              "    border-radius: 50%;\n",
              "    cursor: pointer;\n",
              "    display: none;\n",
              "    fill: var(--fill-color);\n",
              "    height: 32px;\n",
              "    padding: 0;\n",
              "    width: 32px;\n",
              "  }\n",
              "\n",
              "  .colab-df-quickchart:hover {\n",
              "    background-color: var(--hover-bg-color);\n",
              "    box-shadow: 0 1px 2px rgba(60, 64, 67, 0.3), 0 1px 3px 1px rgba(60, 64, 67, 0.15);\n",
              "    fill: var(--button-hover-fill-color);\n",
              "  }\n",
              "\n",
              "  .colab-df-quickchart-complete:disabled,\n",
              "  .colab-df-quickchart-complete:disabled:hover {\n",
              "    background-color: var(--disabled-bg-color);\n",
              "    fill: var(--disabled-fill-color);\n",
              "    box-shadow: none;\n",
              "  }\n",
              "\n",
              "  .colab-df-spinner {\n",
              "    border: 2px solid var(--fill-color);\n",
              "    border-color: transparent;\n",
              "    border-bottom-color: var(--fill-color);\n",
              "    animation:\n",
              "      spin 1s steps(1) infinite;\n",
              "  }\n",
              "\n",
              "  @keyframes spin {\n",
              "    0% {\n",
              "      border-color: transparent;\n",
              "      border-bottom-color: var(--fill-color);\n",
              "      border-left-color: var(--fill-color);\n",
              "    }\n",
              "    20% {\n",
              "      border-color: transparent;\n",
              "      border-left-color: var(--fill-color);\n",
              "      border-top-color: var(--fill-color);\n",
              "    }\n",
              "    30% {\n",
              "      border-color: transparent;\n",
              "      border-left-color: var(--fill-color);\n",
              "      border-top-color: var(--fill-color);\n",
              "      border-right-color: var(--fill-color);\n",
              "    }\n",
              "    40% {\n",
              "      border-color: transparent;\n",
              "      border-right-color: var(--fill-color);\n",
              "      border-top-color: var(--fill-color);\n",
              "    }\n",
              "    60% {\n",
              "      border-color: transparent;\n",
              "      border-right-color: var(--fill-color);\n",
              "    }\n",
              "    80% {\n",
              "      border-color: transparent;\n",
              "      border-right-color: var(--fill-color);\n",
              "      border-bottom-color: var(--fill-color);\n",
              "    }\n",
              "    90% {\n",
              "      border-color: transparent;\n",
              "      border-bottom-color: var(--fill-color);\n",
              "    }\n",
              "  }\n",
              "</style>\n",
              "\n",
              "      <script>\n",
              "        async function quickchart(key) {\n",
              "          const quickchartButtonEl =\n",
              "            document.querySelector('#' + key + ' button');\n",
              "          quickchartButtonEl.disabled = true;  // To prevent multiple clicks.\n",
              "          quickchartButtonEl.classList.add('colab-df-spinner');\n",
              "          try {\n",
              "            const charts = await google.colab.kernel.invokeFunction(\n",
              "                'suggestCharts', [key], {});\n",
              "          } catch (error) {\n",
              "            console.error('Error during call to suggestCharts:', error);\n",
              "          }\n",
              "          quickchartButtonEl.classList.remove('colab-df-spinner');\n",
              "          quickchartButtonEl.classList.add('colab-df-quickchart-complete');\n",
              "        }\n",
              "        (() => {\n",
              "          let quickchartButtonEl =\n",
              "            document.querySelector('#df-d891f5a0-0375-456d-9872-7047e37e12d6 button');\n",
              "          quickchartButtonEl.style.display =\n",
              "            google.colab.kernel.accessAllowed ? 'block' : 'none';\n",
              "        })();\n",
              "      </script>\n",
              "    </div>\n",
              "\n",
              "    </div>\n",
              "  </div>\n"
            ],
            "application/vnd.google.colaboratory.intrinsic+json": {
              "type": "dataframe",
              "variable_name": "df",
              "summary": "{\n  \"name\": \"df\",\n  \"rows\": 10000,\n  \"fields\": [\n    {\n      \"column\": \"Employee_ID\",\n      \"properties\": {\n        \"dtype\": \"number\",\n        \"std\": 2886,\n        \"min\": 1,\n        \"max\": 10000,\n        \"num_unique_values\": 10000,\n        \"samples\": [\n          6253,\n          4685,\n          1732\n        ],\n        \"semantic_type\": \"\",\n        \"description\": \"\"\n      }\n    },\n    {\n      \"column\": \"Name\",\n      \"properties\": {\n        \"dtype\": \"string\",\n        \"num_unique_values\": 9868,\n        \"samples\": [\n          \"Cristal Rodriguez\",\n          \"Stephanie Ellis\",\n          \"Sean Green\"\n        ],\n        \"semantic_type\": \"\",\n        \"description\": \"\"\n      }\n    },\n    {\n      \"column\": \"Age\",\n      \"properties\": {\n        \"dtype\": \"number\",\n        \"std\": 10,\n        \"min\": 21,\n        \"max\": 60,\n        \"num_unique_values\": 40,\n        \"samples\": [\n          22,\n          28,\n          31\n        ],\n        \"semantic_type\": \"\",\n        \"description\": \"\"\n      }\n    },\n    {\n      \"column\": \"Gender\",\n      \"properties\": {\n        \"dtype\": \"category\",\n        \"num_unique_values\": 2,\n        \"samples\": [\n          \"Male\",\n          \"Female\"\n        ],\n        \"semantic_type\": \"\",\n        \"description\": \"\"\n      }\n    },\n    {\n      \"column\": \"Department\",\n      \"properties\": {\n        \"dtype\": \"category\",\n        \"num_unique_values\": 6,\n        \"samples\": [\n          \"Engineering\",\n          \"Sales\"\n        ],\n        \"semantic_type\": \"\",\n        \"description\": \"\"\n      }\n    },\n    {\n      \"column\": \"Job_Title\",\n      \"properties\": {\n        \"dtype\": \"category\",\n        \"num_unique_values\": 5,\n        \"samples\": [\n          \"Executive\",\n          \"Manager\"\n        ],\n        \"semantic_type\": \"\",\n        \"description\": \"\"\n      }\n    },\n    {\n      \"column\": \"Experience_Years\",\n      \"properties\": {\n        \"dtype\": \"number\",\n        \"std\": 9,\n        \"min\": 0,\n        \"max\": 37,\n        \"num_unique_values\": 38,\n        \"samples\": [\n          27,\n          34\n        ],\n        \"semantic_type\": \"\",\n        \"description\": \"\"\n      }\n    },\n    {\n      \"column\": \"Education_Level\",\n      \"properties\": {\n        \"dtype\": \"category\",\n        \"num_unique_values\": 3,\n        \"samples\": [\n          \"Master\",\n          \"Bachelor\"\n        ],\n        \"semantic_type\": \"\",\n        \"description\": \"\"\n      }\n    },\n    {\n      \"column\": \"Location\",\n      \"properties\": {\n        \"dtype\": \"category\",\n        \"num_unique_values\": 5,\n        \"samples\": [\n          \"Seattle\",\n          \"Chicago\"\n        ],\n        \"semantic_type\": \"\",\n        \"description\": \"\"\n      }\n    },\n    {\n      \"column\": \"Salary\",\n      \"properties\": {\n        \"dtype\": \"number\",\n        \"std\": 46066,\n        \"min\": 25000,\n        \"max\": 215000,\n        \"num_unique_values\": 39,\n        \"samples\": [\n          100000,\n          50000\n        ],\n        \"semantic_type\": \"\",\n        \"description\": \"\"\n      }\n    }\n  ]\n}"
            }
          },
          "metadata": {},
          "execution_count": 63
        }
      ]
    },
    {
      "cell_type": "code",
      "source": [
        "#Custom Input Example\n",
        "custom_data = pd.DataFrame({\n",
        "    'Age': [36],\n",
        "    'Gender': ['Male'],\n",
        "    'Department': ['Engineering'],\n",
        "    'Job_Title': ['Intern'],\n",
        "    'Experience_Years': [12],\n",
        "    'Education_Level': ['Bachelor'],\n",
        "    'Location': ['New York']\n",
        "})\n",
        "custom_processed = preprocessor.transform(custom_data)\n",
        "predicted_Salary = model_opt.predict(custom_processed)\n",
        "print(f'Predicted Salary: {predicted_Salary}')"
      ],
      "metadata": {
        "colab": {
          "base_uri": "https://localhost:8080/"
        },
        "id": "zGd13mWzbHFX",
        "outputId": "a936acd4-0e89-4a2e-e37a-dc4a13d64102"
      },
      "execution_count": 65,
      "outputs": [
        {
          "output_type": "stream",
          "name": "stdout",
          "text": [
            "\u001b[1m1/1\u001b[0m \u001b[32m━━━━━━━━━━━━━━━━━━━━\u001b[0m\u001b[37m\u001b[0m \u001b[1m0s\u001b[0m 40ms/step\n",
            "Predicted Salary: [[53770.07]]\n"
          ]
        }
      ]
    },
    {
      "cell_type": "markdown",
      "source": [
        "#Actual vs Predicted plot"
      ],
      "metadata": {
        "id": "Fxti7mP4eTIj"
      }
    },
    {
      "cell_type": "code",
      "source": [
        "#Actual vs Predicted plot\n",
        "y_pred = model_opt.predict(X_test)\n",
        "plt.scatter(y_test, y_pred)\n",
        "plt.xlabel('Actual Salary')\n",
        "plt.ylabel('Predicted Salary')\n",
        "plt.title('Actual vs Predicted Salary')\n",
        "plt.plot([0, max(y_test)], [0, max(y_test)], color = 'red')\n",
        "plt.show()"
      ],
      "metadata": {
        "colab": {
          "base_uri": "https://localhost:8080/",
          "height": 489
        },
        "id": "00hRyIY4d9yV",
        "outputId": "f361097c-af1c-4195-d65e-47129faecb4c"
      },
      "execution_count": 66,
      "outputs": [
        {
          "output_type": "stream",
          "name": "stdout",
          "text": [
            "\u001b[1m63/63\u001b[0m \u001b[32m━━━━━━━━━━━━━━━━━━━━\u001b[0m\u001b[37m\u001b[0m \u001b[1m0s\u001b[0m 3ms/step\n"
          ]
        },
        {
          "output_type": "display_data",
          "data": {
            "text/plain": [
              "<Figure size 640x480 with 1 Axes>"
            ],
            "image/png": "[encoded data removed]"
          },
          "metadata": {}
        }
      ]
    },
    {
      "cell_type": "markdown",
      "source": [
        "**Observations:**\n",
        "\n",
        "The plot shows a good correlation between actual and predicted charges, with points following the red line."
      ],
      "metadata": {
        "id": "6TqkbtxafLAO"
      }
    },
    {
      "cell_type": "markdown",
      "metadata": {
        "id": "7c61e81f"
      },
      "source": [
        "**Most Influential Features for Salary Prediction:**\n",
        "\n",
        "Based on the exploratory data analysis, the following features appear to be the most influential in predicting employee salary:\n",
        "\n",
        "*   **Experience Years:** The correlation heatmap showed a strong positive correlation (0.90) between 'Experience_Years' and 'Salary'. The bar plot of average salary by experience also demonstrated a clear trend of increasing salary with more years of experience.\n",
        "*   **Age:** 'Age' also showed a strong positive correlation (0.93) with 'Salary' in the heatmap. This is closely related to experience, as age and experience are highly correlated (0.98).\n",
        "*   **Education Level:** The bar plot of average salary by education level indicated a significant increase in average salary with higher education degrees (Master's and PhD having notably higher average salaries than Bachelor's).\n",
        "*   **Department:** The bar plot of average salary by department showed noticeable differences in average salaries across different departments, with Finance, Sales, and HR having higher averages than Engineering and Marketing.\n",
        "\n",
        "Features like 'Gender' and 'Location' appeared to have less significant impact on average salary in our initial analysis. While 'Employee_ID' and 'Name' are identifiers and not predictive features."
      ]
    },
    {
      "cell_type": "markdown",
      "metadata": {
        "id": "753f900f"
      },
      "source": [
        "## Project Summary and Conclusion\n",
        "\n",
        "This project aimed to develop and evaluate an Artificial Neural Network (ANN) model for predicting employee salaries based on a synthetic dataset.\n",
        "\n",
        "*   **Key Insights from EDA:**\n",
        "    *   Salary distribution is bimodal.\n",
        "    *   Age, Experience Years (highly correlated), Education Level, and Department are key features influencing salary.\n",
        "    *   Gender and Location showed less impact on average salary.\n",
        "\n",
        "*   **Data Preprocessing:**\n",
        "    *   Separated features (X) and target (y).\n",
        "    *   Identified numerical and categorical columns.\n",
        "    *   Applied scaling (StandardScaler) to numerical features and one-hot encoding to categorical features.\n",
        "    *   Split data into training and testing sets.\n",
        "\n",
        "*   **Model Building and Training:**\n",
        "    *   Built a baseline ANN model with poor initial performance (negative R2).\n",
        "    *   Developed an optimized ANN model with multiple dense and Dropout layers.\n",
        "    *   Compiled with Adam optimizer, using MSE loss and R2 metric.\n",
        "    *   Trained with Early Stopping to prevent overfitting.\n",
        "\n",
        "*   **Model Performance Comparison:**\n",
        "    *   Baseline model performed worse than a simple average prediction (negative R2).\n",
        "    *   Optimized model showed significant improvement:\n",
        "        *   Low MSE on training (19.2M) and test (18.3M) sets.\n",
        "        *   High R2 scores (~0.991 for both), indicating excellent predictive power.\n",
        "        *   Similar performance on training and test sets, suggesting minimal overfitting.\n",
        "    *   Actual vs Predicted plot visually confirmed strong performance.\n",
        "\n",
        "*   **Challenges Faced and How They Were Solved:**\n",
        "    *   Initial baseline model's poor performance was a challenge.\n",
        "    *   Solved by building a more complex optimized ANN with multiple layers and regularization (Dropout).\n",
        "    *   Early Stopping was used to train a robust model and prevent overfitting.\n",
        "\n",
        "*   **Conclusion:**\n",
        "    *   The optimized ANN model successfully predicted employee salaries with high accuracy.\n",
        "    *   EDA highlighted influential features: Experience Years, Age, Education Level, and Department.\n",
        "    *   The optimized model is a reliable tool for salary estimation in this context."
      ]
    }
  ]
}